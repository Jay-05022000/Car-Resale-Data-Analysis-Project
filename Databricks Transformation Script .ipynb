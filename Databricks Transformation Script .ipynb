{
 "cells": [
  {
   "cell_type": "markdown",
   "metadata": {
    "application/vnd.databricks.v1+cell": {
     "cellMetadata": {
      "byteLimit": 2048000,
      "rowLimit": 10000
     },
     "inputWidgets": {},
     "nuid": "94a38539-1151-445c-8321-33eda3c4cdbf",
     "showTitle": false,
     "title": ""
    }
   },
   "source": [
    "                                                          Car Resale Data Analysis Project\n",
    "\n",
    "Objective: The objective of this project is to analyze car resale patterns and factors influencing resale prices in India. This will be achieved through data analysis of the 'car resale' dataset sourced from Kaggle, focusing on transactions that occurred in the year 2023.\n",
    "\n",
    "Dataset Link: https://www.kaggle.com/datasets/rahulmenon1758/car-resale-prices\n",
    "\n",
    "Tools Used: AWS s3 (As an external storage system),Databricks (For data cleaning,transformation and visualization),Pyspark (Programming language)"
   ]
  },
  {
   "cell_type": "code",
   "execution_count": 0,
   "metadata": {
    "application/vnd.databricks.v1+cell": {
     "cellMetadata": {
      "byteLimit": 2048000,
      "rowLimit": 10000
     },
     "inputWidgets": {},
     "nuid": "4b6f07c4-40f3-42cb-a615-6a804fecd8fd",
     "showTitle": true,
     "title": "Unmount already mounted object."
    }
   },
   "outputs": [],
   "source": [
    "dbutils.fs.unmount('/mnt/Car_DA_Project')"
   ]
  },
  {
   "cell_type": "code",
   "execution_count": 0,
   "metadata": {
    "application/vnd.databricks.v1+cell": {
     "cellMetadata": {
      "byteLimit": 2048000,
      "rowLimit": 10000
     },
     "inputWidgets": {},
     "nuid": "d8869b64-0ed0-4622-bd4d-4dab8278b0c4",
     "showTitle": true,
     "title": "Import data from AWS s3 bucket."
    }
   },
   "outputs": [],
   "source": [
    "access_key = ' \n",
    "secret_key = ' \n",
    "encoded_secret_key = secret_key.replace(\"/\", \"%2F\")\n",
    "aws_bucket_name = \"car-resale-data-analysis\"\n",
    "mount_name = \"Car_DA_Project\"\n",
    "\n",
    "dbutils.fs.mount(f\"s3a://{access_key}:{encoded_secret_key}@{aws_bucket_name}\", f\"/mnt/{mount_name}\")\n",
    "display(dbutils.fs.ls(f\"/mnt/{mount_name}\"))\n"
   ]
  },
  {
   "cell_type": "code",
   "execution_count": 0,
   "metadata": {
    "application/vnd.databricks.v1+cell": {
     "cellMetadata": {
      "byteLimit": 2048000,
      "rowLimit": 10000
     },
     "inputWidgets": {},
     "nuid": "d1496328-0635-4992-9b2d-a50950eab660",
     "showTitle": true,
     "title": "Read a file from external storage system(AWS s3)."
    }
   },
   "outputs": [],
   "source": [
    "df = spark.read.option(\"header\", True).csv(\n",
    "    \"dbfs:/mnt/Car_DA_Project/dataset/car_resale_prices.csv\"\n",
    ")\n",
    "display(df)"
   ]
  },
  {
   "cell_type": "markdown",
   "metadata": {
    "application/vnd.databricks.v1+cell": {
     "cellMetadata": {
      "byteLimit": 2048000,
      "rowLimit": 10000
     },
     "inputWidgets": {},
     "nuid": "7e3b5a3b-cdff-44f8-b6fe-52cb18920e77",
     "showTitle": false,
     "title": ""
    }
   },
   "source": [
    "Data Cleaning and Transformation."
   ]
  },
  {
   "cell_type": "code",
   "execution_count": 0,
   "metadata": {
    "application/vnd.databricks.v1+cell": {
     "cellMetadata": {
      "byteLimit": 2048000,
      "rowLimit": 10000
     },
     "inputWidgets": {},
     "nuid": "8e7754cb-886a-4532-891d-ef0d305727f2",
     "showTitle": false,
     "title": "Print df schema."
    }
   },
   "outputs": [],
   "source": [
    "# Print df schema.\n",
    "display(df.printSchema())"
   ]
  },
  {
   "cell_type": "code",
   "execution_count": 0,
   "metadata": {
    "application/vnd.databricks.v1+cell": {
     "cellMetadata": {
      "byteLimit": 2048000,
      "rowLimit": 10000
     },
     "inputWidgets": {},
     "nuid": "33fc3137-0034-4e66-8f1d-1388186b6831",
     "showTitle": false,
     "title": "Get shape of the df."
    }
   },
   "outputs": [],
   "source": [
    "# Get the shape of df.\n",
    "\n",
    "from pyspark.sql.functions import *\n",
    "print(df.count() , len(df.columns))  # df.count() - to get total rows , len(df.columns) - to get total columns.\n"
   ]
  },
  {
   "cell_type": "code",
   "execution_count": 0,
   "metadata": {
    "application/vnd.databricks.v1+cell": {
     "cellMetadata": {
      "byteLimit": 2048000,
      "rowLimit": 10000
     },
     "inputWidgets": {},
     "nuid": "b8af19ee-e914-41b6-89ab-efc622d57213",
     "showTitle": true,
     "title": "Drop first column."
    }
   },
   "outputs": [],
   "source": [
    "df = df.drop(\"_c0\")  # Drop '_c0' column."
   ]
  },
  {
   "cell_type": "code",
   "execution_count": 0,
   "metadata": {
    "application/vnd.databricks.v1+cell": {
     "cellMetadata": {
      "byteLimit": 2048000,
      "rowLimit": 10000
     },
     "inputWidgets": {},
     "nuid": "32d2a39f-e881-4f7e-b937-82978bd9efbf",
     "showTitle": true,
     "title": "Drop duplicate rows."
    }
   },
   "outputs": [],
   "source": [
    "df = (df.dropDuplicates())  # df.dropduplicates() removes all duplicates from the df and returns a new df with all unique rows.\n",
    "display(df.count())  # Count of duplicate rows = Total rows - count of unique rows = 17446 - 17243 = 339 duplicate rows"
   ]
  },
  {
   "cell_type": "code",
   "execution_count": 0,
   "metadata": {
    "application/vnd.databricks.v1+cell": {
     "cellMetadata": {
      "byteLimit": 2048000,
      "rowLimit": 10000
     },
     "inputWidgets": {},
     "nuid": "b6d316b9-a880-451d-a4a8-397146a7950a",
     "showTitle": true,
     "title": " Transform 'full_name' column."
    }
   },
   "outputs": [],
   "source": [
    "# Rename 'full_name' column.\n",
    "df = df.withColumnRenamed(\"full_name\" , \"car_model\")\n",
    "\n",
    "# Remove registration year information from the column values.\n",
    "df = df.withColumn(\"car_model\", expr(\"substring(car_model, 6)\"))  # Trims string value\n",
    "\n",
    "display(df)"
   ]
  },
  {
   "cell_type": "code",
   "execution_count": 0,
   "metadata": {
    "application/vnd.databricks.v1+cell": {
     "cellMetadata": {
      "byteLimit": 2048000,
      "rowLimit": 10000
     },
     "inputWidgets": {},
     "nuid": "9d43ee73-5ddd-4d35-99d5-5d1e210da0d5",
     "showTitle": true,
     "title": "Create 'car_company' from 'car_model' column."
    }
   },
   "outputs": [],
   "source": [
    "df = df.withColumn(\"car_company\",expr(\"split(car_model,' ')[0]\"))\n",
    "display(df)"
   ]
  },
  {
   "cell_type": "code",
   "execution_count": 0,
   "metadata": {
    "application/vnd.databricks.v1+cell": {
     "cellMetadata": {
      "byteLimit": 2048000,
      "rowLimit": 10000
     },
     "inputWidgets": {},
     "nuid": "2322ab18-5dcb-4324-8b77-d5535514d0c7",
     "showTitle": true,
     "title": "Transform 'resale_price' column."
    }
   },
   "outputs": [],
   "source": [
    "# Create new column that contains only numerical price information from the 'resale_price' column.\n",
    "df = df.withColumn('resale_price_in_Lakh_Rupees',expr(\"split(resale_price,' ')[1]\"))  # splits the string based on white space.\n",
    "df=df.drop('resale_price')\n",
    "display(df)"
   ]
  },
  {
   "cell_type": "code",
   "execution_count": 0,
   "metadata": {
    "application/vnd.databricks.v1+cell": {
     "cellMetadata": {
      "byteLimit": 2048000,
      "rowLimit": 10000
     },
     "inputWidgets": {},
     "nuid": "843b7030-c679-4559-93bd-688c6025d2a2",
     "showTitle": true,
     "title": "Transform 'engine_capacity' column."
    }
   },
   "outputs": [],
   "source": [
    "# Remove 'cc' substring from the 'engine_capacity' column.\n",
    "df = df.withColumn('engine_capacity_in_cc' , expr(\"split(engine_capacity,' ')[0]\"))\n",
    "df=df.drop('engine_capacity')\n",
    "display(df)"
   ]
  },
  {
   "cell_type": "code",
   "execution_count": 0,
   "metadata": {
    "application/vnd.databricks.v1+cell": {
     "cellMetadata": {
      "byteLimit": 2048000,
      "rowLimit": 10000
     },
     "inputWidgets": {},
     "nuid": "95090958-9151-4d01-88c1-9bd588f817b7",
     "showTitle": true,
     "title": "Transform 'kms_driven' column."
    }
   },
   "outputs": [],
   "source": [
    "# Create new column that contains only km digits from 'kms_driven' column.\n",
    "df = df.withColumn('Kms_driven' , expr(\"split(kms_driven,' ')[0]\"))\n",
    "df = df.withColumn('Kms_driven' , regexp_replace('Kms_driven',',',''))  # replace ',' with void from Kms_driven.\n",
    "display(df)"
   ]
  },
  {
   "cell_type": "code",
   "execution_count": 0,
   "metadata": {
    "application/vnd.databricks.v1+cell": {
     "cellMetadata": {
      "byteLimit": 2048000,
      "rowLimit": 10000
     },
     "inputWidgets": {},
     "nuid": "ab726bea-d703-45e4-86ab-29a3906661b0",
     "showTitle": true,
     "title": "Transform 'mileage' column."
    }
   },
   "outputs": [],
   "source": [
    "# Transform 'mileage' column.\n",
    "df = df.withColumn('mileage_in_kmpl' , expr(\"split(mileage,' ')[0]\"))\n",
    "df = df.drop(\"mileage\")    \n",
    "display(df)"
   ]
  },
  {
   "cell_type": "code",
   "execution_count": 0,
   "metadata": {
    "application/vnd.databricks.v1+cell": {
     "cellMetadata": {
      "byteLimit": 2048000,
      "rowLimit": 10000
     },
     "inputWidgets": {},
     "nuid": "318c3dab-5cb0-46ae-8e3a-d30eecee589b",
     "showTitle": true,
     "title": "Transform 'max_power' column."
    }
   },
   "outputs": [],
   "source": [
    "# Transform 'max_power' column.\n",
    "df = df.withColumn(\"max_power_in_bhp\", expr(\"substring(max_power, 1, locate('bhp', max_power) - 1)\"))\n",
    "df = df.drop('max_power')\n",
    "display(df)"
   ]
  },
  {
   "cell_type": "code",
   "execution_count": 0,
   "metadata": {
    "application/vnd.databricks.v1+cell": {
     "cellMetadata": {
      "byteLimit": 2048000,
      "rowLimit": 10000
     },
     "inputWidgets": {},
     "nuid": "f3780d38-34e6-40c7-b63a-624db7c5b88f",
     "showTitle": true,
     "title": "Handle 'Insuarance' column."
    }
   },
   "outputs": [],
   "source": [
    "# replace available values.\n",
    "df = df.withColumn(\"insurance\",regexp_replace('insurance','Not Available','Without Insuarance')).withColumn(\"insurance\",regexp_replace('insurance','1','First Party Insuarance')).withColumn(\"insurance\",regexp_replace('insurance','2','Second Party Insuarance'))\n",
    "display(df)"
   ]
  },
  {
   "cell_type": "code",
   "execution_count": 0,
   "metadata": {
    "application/vnd.databricks.v1+cell": {
     "cellMetadata": {
      "byteLimit": 2048000,
      "rowLimit": 10000
     },
     "inputWidgets": {},
     "nuid": "b80c4ed3-84f3-48dc-a983-35674e6046b0",
     "showTitle": true,
     "title": "Handle registered_year column."
    }
   },
   "outputs": [],
   "source": [
    "# Extract only year information.\n",
    "df = df.withColumn(\"registered_yr\" ,expr(\"substring(registered_year,-4)\"))\n",
    "df = df.drop(\"registered_year\")\n",
    "display(df)"
   ]
  },
  {
   "cell_type": "code",
   "execution_count": 0,
   "metadata": {
    "application/vnd.databricks.v1+cell": {
     "cellMetadata": {
      "byteLimit": 2048000,
      "rowLimit": 10000
     },
     "inputWidgets": {},
     "nuid": "ebacd4dc-01c7-43a6-8c54-9c4d41b34ac8",
     "showTitle": true,
     "title": "Rearrange columns in the df."
    }
   },
   "outputs": [],
   "source": [
    "# Rearrange columns in the df.\n",
    "df = df.select('car_company','car_model','registered_yr','Kms_driven','owner_type','body_type','seats','transmission_type','fuel_type','engine_capacity_in_cc','mileage_in_kmpl','max_power_in_bhp','insurance','city','resale_price_in_Lakh_Rupees')\n",
    "display(df)"
   ]
  },
  {
   "cell_type": "code",
   "execution_count": 0,
   "metadata": {
    "application/vnd.databricks.v1+cell": {
     "cellMetadata": {
      "byteLimit": 2048000,
      "rowLimit": 10000
     },
     "inputWidgets": {},
     "nuid": "5ce181f1-493d-4bb4-bdd6-5e75df5cfc7d",
     "showTitle": true,
     "title": "Cast columns into proper data type."
    }
   },
   "outputs": [],
   "source": [
    "from pyspark.sql.types import IntegerType,DoubleType\n",
    "\n",
    "# Change columns data type.\n",
    "\n",
    "df = df.withColumn(\"registered_yr\",df[\"registered_yr\"].cast(IntegerType())).withColumn(\"seats\",df[\"seats\"].cast(IntegerType())).withColumn(\"engine_capacity_in_cc\",df[\"engine_capacity_in_cc\"].cast(IntegerType())).withColumn(\"mileage_in_kmpl\",df[\"mileage_in_kmpl\"].cast(IntegerType())).withColumn(\"max_power_in_bhp\",df[\"max_power_in_bhp\"].cast(IntegerType())).withColumn(\"resale_price_in_Lakh_Rupees\",df[\"resale_price_in_Lakh_Rupees\"].cast(DoubleType())).withColumn(\"Kms_driven\",df[\"Kms_driven\"].cast(DoubleType()))  \n",
    "\n",
    "display(df.printSchema())"
   ]
  },
  {
   "cell_type": "markdown",
   "metadata": {
    "application/vnd.databricks.v1+cell": {
     "cellMetadata": {
      "byteLimit": 2048000,
      "rowLimit": 10000
     },
     "inputWidgets": {},
     "nuid": "e8a7e6cd-f2ba-47fc-b45d-700026b5a7af",
     "showTitle": false,
     "title": ""
    }
   },
   "source": [
    "Data Profiling"
   ]
  },
  {
   "cell_type": "code",
   "execution_count": 0,
   "metadata": {
    "application/vnd.databricks.v1+cell": {
     "cellMetadata": {
      "byteLimit": 2048000,
      "rowLimit": 10000
     },
     "inputWidgets": {},
     "nuid": "2c1a3328-2183-4155-b432-3b66fda38132",
     "showTitle": true,
     "title": "Calaculate null values across all columns."
    }
   },
   "outputs": [],
   "source": [
    "from pyspark.sql.functions import isnan, when, count, col\n",
    "\n",
    "df.select([count(when(col(c).isNull(), c)).alias(c) for c in df.columns]).show() \n",
    "\n",
    "# df.na.drop() To drop null rows."
   ]
  },
  {
   "cell_type": "markdown",
   "metadata": {
    "application/vnd.databricks.v1+cell": {
     "cellMetadata": {
      "byteLimit": 2048000,
      "rowLimit": 10000
     },
     "inputWidgets": {},
     "nuid": "073c942c-4b66-438f-83ee-a2763e7b33c7",
     "showTitle": false,
     "title": ""
    }
   },
   "source": [
    "- For 'max_power_in_bhp'  and  'mileage_in_kmpl' columns, the intention is to populate null entries with randomly generated values drawn from a range between the 25th and 75th percentiles. The aim is to distribute these values more evenly across the dataset, as opposed to utilizing constant values like mean or median.\n",
    "- Conversely, for the remaining columns, null values can be filled using mean or median values. The rationale behind this decision lies in the relatively lower quantity of missing data in these columns, thus making the impact on data quality less significant."
   ]
  },
  {
   "cell_type": "code",
   "execution_count": 0,
   "metadata": {
    "application/vnd.databricks.v1+cell": {
     "cellMetadata": {
      "byteLimit": 2048000,
      "rowLimit": 10000
     },
     "inputWidgets": {},
     "nuid": "40744470-8dc6-4932-8773-0f4f25cacd82",
     "showTitle": true,
     "title": "Handle nulls in 'max_power_in_bhp' column."
    }
   },
   "outputs": [],
   "source": [
    "min_power = 78     # This vales are selected based on the understanding of value distribution on the registered_yr column.\n",
    "max_power = 118\n",
    "\n",
    "df = df.withColumn('max_power_in_bhp', when(col('max_power_in_bhp').isNull(),(rand() * (max_power - min_power) + min_power).cast('int')).otherwise(col('max_power_in_bhp')))\n",
    "display(df.where(col('max_power_in_bhp').isNull()).count())\n"
   ]
  },
  {
   "cell_type": "code",
   "execution_count": 0,
   "metadata": {
    "application/vnd.databricks.v1+cell": {
     "cellMetadata": {
      "byteLimit": 2048000,
      "rowLimit": 10000
     },
     "inputWidgets": {},
     "nuid": "8904e7b3-0e23-484b-acae-219f3c7ab5e2",
     "showTitle": true,
     "title": "Handle nulls in 'mileage_in_kmpl'."
    }
   },
   "outputs": [],
   "source": [
    "min_mileage = 6\n",
    "max_mileage = 21\n",
    "\n",
    "df = df.withColumn('mileage_in_kmpl', when(col('mileage_in_kmpl').isNull(),(rand() * (max_mileage - min_mileage) + min_mileage).cast('int')).otherwise(col('mileage_in_kmpl')))\n",
    "\n",
    "display(df.where(col('mileage_in_kmpl').isNull()).count())"
   ]
  },
  {
   "cell_type": "code",
   "execution_count": 0,
   "metadata": {
    "application/vnd.databricks.v1+cell": {
     "cellMetadata": {
      "byteLimit": 2048000,
      "rowLimit": 10000
     },
     "inputWidgets": {},
     "nuid": "f73df1d2-a512-4ac8-bb45-1d4a1a657456",
     "showTitle": true,
     "title": "Handle nulls in resale_price_in_Lakh_Rupees,owner_type,seats,engine_capacity_in_cc,insurance at once using mean value."
    }
   },
   "outputs": [],
   "source": [
    "# Handle nulls in resale_price_in_Lakh_Rupees,owner_type,seats,engine_capacity_in_cc,insurance at once using mean value.\n",
    "\n",
    "df = df.na.fill({'registered_yr': 2017,'Kms_driven': 58597,'owner_type': 'Third Owner','seats':5,'engine_capacity_in_cc':1422,'insurance':'Third Party','resale_price_in_Lakh_Rupees':8.71})\n"
   ]
  },
  {
   "cell_type": "code",
   "execution_count": 0,
   "metadata": {
    "application/vnd.databricks.v1+cell": {
     "cellMetadata": {
      "byteLimit": 2048000,
      "rowLimit": 10000
     },
     "collapsed": true,
     "inputWidgets": {},
     "nuid": "2475c4b7-a711-4641-baf6-fe915952e9d1",
     "showTitle": false,
     "title": ""
    }
   },
   "outputs": [
    {
     "output_type": "stream",
     "name": "stdout",
     "output_type": "stream",
     "text": [
      "+-----------+---------+-------------+----------+----------+---------+-----+-----------------+---------+---------------------+---------------+----------------+---------+----+---------------------------+\n|car_company|car_model|registered_yr|Kms_driven|owner_type|body_type|seats|transmission_type|fuel_type|engine_capacity_in_cc|mileage_in_kmpl|max_power_in_bhp|insurance|city|resale_price_in_Lakh_Rupees|\n+-----------+---------+-------------+----------+----------+---------+-----+-----------------+---------+---------------------+---------------+----------------+---------+----+---------------------------+\n|          0|        0|            0|         0|         0|        0|    0|                0|        0|                    0|              0|               0|        0|   0|                          0|\n+-----------+---------+-------------+----------+----------+---------+-----+-----------------+---------+---------------------+---------------+----------------+---------+----+---------------------------+\n\n"
     ]
    }
   ],
   "source": [
    "# Re-check null values in df.\n",
    "\n",
    "from pyspark.sql.functions import isnan, when, count, col\n",
    "\n",
    "df.select([count(when(col(c).isNull(), c)).alias(c) for c in df.columns]).show()"
   ]
  },
  {
   "cell_type": "markdown",
   "metadata": {
    "application/vnd.databricks.v1+cell": {
     "cellMetadata": {
      "byteLimit": 2048000,
      "rowLimit": 10000
     },
     "inputWidgets": {},
     "nuid": "c775bd4a-db52-4a49-b475-1b623920ff8c",
     "showTitle": false,
     "title": ""
    }
   },
   "source": [
    "Write a cleaned dataframe to extrenal storage location."
   ]
  },
  {
   "cell_type": "code",
   "execution_count": 0,
   "metadata": {
    "application/vnd.databricks.v1+cell": {
     "cellMetadata": {
      "byteLimit": 2048000,
      "rowLimit": 10000
     },
     "inputWidgets": {},
     "nuid": "699dd481-9606-45ca-9545-b1bf5749ba67",
     "showTitle": true,
     "title": "Export transformed data to external storage location(AWS s3)."
    }
   },
   "outputs": [],
   "source": [
    "# write a cleaned df to a csv file.\n",
    "df.write.mode(\"overwrite\").option(\"header\" , True).option(\"inferschema\" , True).csv('dbfs:/mnt/Car_DA_Project/Cleaned_dataset/')\n",
    "\n",
    "# Save dataframe to table for querying using SQL\n",
    "df.write.option(\"overwriteSchema\", True).mode(\"overwrite\").saveAsTable(\"default.cleaned_data\")"
   ]
  },
  {
   "cell_type": "markdown",
   "metadata": {
    "application/vnd.databricks.v1+cell": {
     "cellMetadata": {
      "byteLimit": 2048000,
      "rowLimit": 10000
     },
     "inputWidgets": {},
     "nuid": "bf812382-5fdb-40aa-ba63-d0d7f6770ee7",
     "showTitle": false,
     "title": ""
    }
   },
   "source": [
    "Statistical Summary"
   ]
  },
  {
   "cell_type": "code",
   "execution_count": 0,
   "metadata": {
    "application/vnd.databricks.v1+cell": {
     "cellMetadata": {
      "byteLimit": 2048000,
      "rowLimit": 10000
     },
     "inputWidgets": {},
     "nuid": "8b6f33e6-79ea-4ddb-8dde-cb43033d53af",
     "showTitle": false,
     "title": "Statistical summary of dataset."
    }
   },
   "outputs": [],
   "source": [
    "summary = df.summary() \n",
    "display(summary)\n",
    "\n",
    "# Export statistical summary.\n",
    "summary.write.mode(\"overwrite\").option(\"header\",True).csv('dbfs:/mnt/Car_DA_Project/Dataframe_Suumary/')"
   ]
  },
  {
   "cell_type": "markdown",
   "metadata": {
    "application/vnd.databricks.v1+cell": {
     "cellMetadata": {
      "byteLimit": 2048000,
      "rowLimit": 10000
     },
     "inputWidgets": {},
     "nuid": "fbc1d4d5-7d81-4381-a877-5047f524800d",
     "showTitle": false,
     "title": ""
    }
   },
   "source": [
    "Data Analysis"
   ]
  },
  {
   "cell_type": "code",
   "execution_count": 0,
   "metadata": {
    "application/vnd.databricks.v1+cell": {
     "cellMetadata": {
      "byteLimit": 2048000,
      "rowLimit": 10000
     },
     "inputWidgets": {},
     "nuid": "788839c0-b259-4190-995e-9d7185352479",
     "showTitle": true,
     "title": " Which car companies dominated the car re-sale market in 2023?"
    }
   },
   "outputs": [
    {
     "output_type": "display_data",
     "data": {
      "text/html": [
       "<style scoped>\n",
       "  .table-result-container {\n",
       "    max-height: 300px;\n",
       "    overflow: auto;\n",
       "  }\n",
       "  table, th, td {\n",
       "    border: 1px solid black;\n",
       "    border-collapse: collapse;\n",
       "  }\n",
       "  th, td {\n",
       "    padding: 5px;\n",
       "  }\n",
       "  th {\n",
       "    text-align: left;\n",
       "  }\n",
       "</style><div class='table-result-container'><table class='table-result'><thead style='background-color: white'><tr><th>car_company</th><th>count(car_model)</th></tr></thead><tbody><tr><td>Maruti</td><td>4766</td></tr><tr><td>Hyundai</td><td>3571</td></tr><tr><td>Honda</td><td>1777</td></tr><tr><td>Tata</td><td>989</td></tr><tr><td>Mahindra</td><td>790</td></tr><tr><td>Toyota</td><td>719</td></tr><tr><td>Renault</td><td>626</td></tr><tr><td>Ford</td><td>555</td></tr><tr><td>Volkswagen</td><td>551</td></tr><tr><td>Mercedes-Benz</td><td>469</td></tr><tr><td>BMW</td><td>385</td></tr><tr><td>Skoda</td><td>334</td></tr><tr><td>Kia</td><td>298</td></tr><tr><td>Audi</td><td>287</td></tr><tr><td>Nissan</td><td>184</td></tr><tr><td>MG</td><td>175</td></tr><tr><td>Jeep</td><td>164</td></tr><tr><td>Chevrolet</td><td>158</td></tr><tr><td>Datsun</td><td>107</td></tr><tr><td>Jaguar</td><td>81</td></tr><tr><td>Land</td><td>58</td></tr><tr><td>Volvo</td><td>57</td></tr><tr><td>Fiat</td><td>55</td></tr><tr><td>Mitsubishi</td><td>23</td></tr><tr><td>Porsche</td><td>15</td></tr><tr><td>Mini</td><td>13</td></tr><tr><td>Isuzu</td><td>13</td></tr><tr><td>Citroen</td><td>9</td></tr><tr><td>Lexus</td><td>4</td></tr><tr><td>Force</td><td>4</td></tr><tr><td>OpelCorsa</td><td>3</td></tr><tr><td>Hindustan</td><td>1</td></tr><tr><td>Daewoo</td><td>1</td></tr><tr><td>Bentley</td><td>1</td></tr></tbody></table></div>"
      ]
     },
     "metadata": {
      "application/vnd.databricks.v1+output": {
       "addedWidgets": {},
       "aggData": [],
       "aggError": "",
       "aggOverflow": false,
       "aggSchema": [],
       "aggSeriesLimitReached": false,
       "aggType": "",
       "arguments": {},
       "columnCustomDisplayInfos": {},
       "data": [
        [
         "Maruti",
         4766
        ],
        [
         "Hyundai",
         3571
        ],
        [
         "Honda",
         1777
        ],
        [
         "Tata",
         989
        ],
        [
         "Mahindra",
         790
        ],
        [
         "Toyota",
         719
        ],
        [
         "Renault",
         626
        ],
        [
         "Ford",
         555
        ],
        [
         "Volkswagen",
         551
        ],
        [
         "Mercedes-Benz",
         469
        ],
        [
         "BMW",
         385
        ],
        [
         "Skoda",
         334
        ],
        [
         "Kia",
         298
        ],
        [
         "Audi",
         287
        ],
        [
         "Nissan",
         184
        ],
        [
         "MG",
         175
        ],
        [
         "Jeep",
         164
        ],
        [
         "Chevrolet",
         158
        ],
        [
         "Datsun",
         107
        ],
        [
         "Jaguar",
         81
        ],
        [
         "Land",
         58
        ],
        [
         "Volvo",
         57
        ],
        [
         "Fiat",
         55
        ],
        [
         "Mitsubishi",
         23
        ],
        [
         "Porsche",
         15
        ],
        [
         "Mini",
         13
        ],
        [
         "Isuzu",
         13
        ],
        [
         "Citroen",
         9
        ],
        [
         "Lexus",
         4
        ],
        [
         "Force",
         4
        ],
        [
         "OpelCorsa",
         3
        ],
        [
         "Hindustan",
         1
        ],
        [
         "Daewoo",
         1
        ],
        [
         "Bentley",
         1
        ]
       ],
       "datasetInfos": [],
       "dbfsResultPath": null,
       "isJsonSchema": true,
       "metadata": {},
       "overflow": false,
       "plotOptions": {
        "customPlotOptions": {},
        "displayType": "table",
        "pivotAggregation": null,
        "pivotColumns": null,
        "xColumns": null,
        "yColumns": null
       },
       "removedWidgets": [],
       "schema": [
        {
         "metadata": "{}",
         "name": "car_company",
         "type": "\"string\""
        },
        {
         "metadata": "{}",
         "name": "count(car_model)",
         "type": "\"long\""
        }
       ],
       "type": "table"
      }
     },
     "output_type": "display_data"
    },
    {
     "output_type": "display_data",
     "data": {
      "text/plain": [
       "Databricks visualization. Run in Databricks to view."
      ]
     },
     "metadata": {
      "application/vnd.databricks.v1.subcommand+json": {
       "baseErrorDetails": null,
       "bindings": {},
       "collapsed": false,
       "command": "%python\n__backend_agg_display_orig = display\n__backend_agg_dfs = []\ndef __backend_agg_display_new(df):\n    __backend_agg_df_modules = [\"pandas.core.frame\", \"databricks.koalas.frame\", \"pyspark.sql.dataframe\", \"pyspark.pandas.frame\", \"pyspark.sql.connect.dataframe\"]\n    if (type(df).__module__ in __backend_agg_df_modules and type(df).__name__ == 'DataFrame') or isinstance(df, list):\n        __backend_agg_dfs.append(df)\n\ndisplay = __backend_agg_display_new\n\ndef __backend_agg_user_code_fn():\n    import base64\n    exec(base64.standard_b64decode(\"Y2Fyc19zb2xkX3Blcl9jb21wYW55ID0gKAogICAgZGYuZ3JvdXBieSgiY2FyX2NvbXBhbnkiKQogICAgLmFnZyhjb3VudCgiY2FyX21vZGVsIikpCiAgICAuYWxpYXMoImNvdW50KGNhcl9tb2RlbCkiKQogICAgLm9yZGVyQnkoZGVzYygiY291bnQoY2FyX21vZGVsKSIpKQopCmRpc3BsYXkoY2Fyc19zb2xkX3Blcl9jb21wYW55KQoKIyBJbiAyMDIzLCBNYXJ1dGksIEh5dW5kYWksIGFuZCBIb25kYSBhY2NvdW50ZWQgZm9yIGFwcHJveGltYXRlbHkgNjAlIG9mIHRoZSByZXNvbGQgY2FyIG1hcmtldCBpbiBJbmRpYSwgdG90YWxpbmcgbW9yZSB0aGFuIDEwLDAwMCB2ZWhpY2xlcy4gQ29udmVyc2VseSwgRm9yY2UsIE9wZWwgQ29yc2EsIEhpbmR1c3RhbiwgRGFld29vLCBhbmQgQmVudGxleSBleHBlcmllbmNlZCB0aGUgbG93ZXN0IHNhbGVzIGZpZ3VyZXMgYW1vbmcgY2FyIGNvbXBhbmllcyBvcGVyYXRpbmcgaW4gdGhlIGNvdW50cnkgZHVyaW5nIHRoYXQgeWVhci4=\").decode())\n\ntry:\n    # run user code\n    __backend_agg_user_code_fn()\n\n    #reset display function\n    display = __backend_agg_display_orig\n\n    if len(__backend_agg_dfs) > 0:\n        # create a temp view\n        if type(__backend_agg_dfs[0]).__module__ == \"databricks.koalas.frame\":\n            # koalas dataframe\n            __backend_agg_dfs[0].to_spark().createOrReplaceTempView(\"DatabricksViewbe236e8\")\n        elif type(__backend_agg_dfs[0]).__module__ == \"pandas.core.frame\" or isinstance(__backend_agg_dfs[0], list):\n            # pandas dataframe\n            spark.createDataFrame(__backend_agg_dfs[0]).createOrReplaceTempView(\"DatabricksViewbe236e8\")\n        else:\n            __backend_agg_dfs[0].createOrReplaceTempView(\"DatabricksViewbe236e8\")\n        #run backend agg\n        display(spark.sql(\"\"\"WITH q AS (select * from DatabricksViewbe236e8) SELECT `car_company`,SUM(`count(car_model)`) `column_b41f4e9c39` FROM q GROUP BY `car_company`\"\"\"))\n    else:\n        displayHTML(\"dataframe no longer exists. If you're using dataframe.display(), use display(dataframe) instead.\")\n\n\nfinally:\n    spark.sql(\"drop view if exists DatabricksViewbe236e8\")\n    display = __backend_agg_display_orig\n    del __backend_agg_display_new\n    del __backend_agg_display_orig\n    del __backend_agg_dfs\n    del __backend_agg_user_code_fn\n\n",
       "commandTitle": "Visualization 1",
       "commandType": "auto",
       "commandVersion": 0,
       "commentThread": [],
       "commentsVisible": false,
       "contentSha256Hex": null,
       "customPlotOptions": {
        "redashChart": [
         {
          "key": "type",
          "value": "CHART"
         },
         {
          "key": "options",
          "value": {
           "alignYAxesAtZero": true,
           "coefficient": 1,
           "columnConfigurationMap": {
            "x": {
             "column": "car_company",
             "id": "column_b41f4e9c38"
            },
            "y": [
             {
              "column": "count(car_model)",
              "id": "column_b41f4e9c39",
              "transform": "SUM"
             }
            ]
           },
           "dateTimeFormat": "DD/MM/YYYY HH:mm",
           "direction": {
            "type": "counterclockwise"
           },
           "error_y": {
            "type": "data",
            "visible": true
           },
           "globalSeriesType": "column",
           "isAggregationOn": true,
           "legend": {
            "traceorder": "normal"
           },
           "missingValuesAsZero": true,
           "numberFormat": "0,0.[00000]",
           "percentFormat": "0[.]00%",
           "series": {
            "error_y": {
             "type": "data",
             "visible": true
            },
            "stacking": null
           },
           "seriesOptions": {
            "column_b41f4e9c39": {
             "color": "#3B7BA1",
             "name": "count(car_model)",
             "yAxis": 0
            }
           },
           "showDataLabels": false,
           "sizemode": "diameter",
           "sortX": true,
           "sortY": true,
           "swappedAxes": false,
           "textFormat": "",
           "useAggregationsUi": true,
           "valuesOptions": {},
           "version": 2,
           "xAxis": {
            "labels": {
             "enabled": true
            },
            "title": {
             "text": "Car Company"
            },
            "type": "-"
           },
           "yAxis": [
            {
             "title": {
              "text": " Number of Cars Sold"
             },
             "type": "-"
            },
            {
             "opposite": true,
             "type": "-"
            }
           ]
          }
         }
        ]
       },
       "datasetPreviewNameToCmdIdMap": {},
       "diffDeletes": [],
       "diffInserts": [],
       "displayType": "redashChart",
       "error": null,
       "errorDetails": null,
       "errorSummary": null,
       "errorTraceType": null,
       "finishTime": 0,
       "globalVars": {},
       "guid": "",
       "height": "434",
       "hideCommandCode": false,
       "hideCommandResult": false,
       "iPythonMetadata": null,
       "inputWidgets": {},
       "isLockedInExamMode": false,
       "latestUser": "a user",
       "latestUserId": null,
       "listResultMetadata": null,
       "metadata": {
        "byteLimit": 2048000,
        "rowLimit": 10000
       },
       "nuid": "2f17657e-68dc-4754-a0e3-51c85a85c324",
       "origId": 0,
       "parentHierarchy": [],
       "pivotAggregation": null,
       "pivotColumns": null,
       "position": 44.0,
       "resultDbfsErrorMessage": null,
       "resultDbfsStatus": "INLINED_IN_TREE",
       "results": null,
       "showCommandTitle": false,
       "startTime": 0,
       "state": "input",
       "streamStates": {},
       "subcommandOptions": {
        "queryPlan": {
         "groups": [
          {
           "column": "car_company",
           "type": "column"
          }
         ],
         "selects": [
          {
           "column": "car_company",
           "type": "column"
          },
          {
           "alias": "column_b41f4e9c39",
           "args": [
            {
             "column": "count(car_model)",
             "type": "column"
            }
           ],
           "function": "SUM",
           "type": "function"
          }
         ]
        }
       },
       "submitTime": 0,
       "subtype": "tableResultSubCmd.visualization",
       "tableResultIndex": 0,
       "useConsistentColors": false,
       "version": "CommandV1",
       "width": "auto",
       "workflows": [],
       "xColumns": null,
       "yColumns": null
      }
     },
     "output_type": "display_data"
    }
   ],
   "source": [
    "cars_sold_per_company = (\n",
    "    df.groupby(\"car_company\")\n",
    "    .agg(count(\"car_model\"))\n",
    "    .alias(\"count(car_model)\")\n",
    "    .orderBy(desc(\"count(car_model)\"))\n",
    ")\n",
    "display(cars_sold_per_company)\n",
    "\n",
    "# In 2023, Maruti, Hyundai, and Honda accounted for approximately 60% of the resold car market in India, totaling more than 10,000 vehicles. Conversely, Force, Opel Corsa, Hindustan, Daewoo, and Bentley experienced the lowest sales figures among car companies operating in the country during that year."
   ]
  },
  {
   "cell_type": "code",
   "execution_count": 0,
   "metadata": {
    "application/vnd.databricks.v1+cell": {
     "cellMetadata": {
      "byteLimit": 2048000,
      "rowLimit": 10000
     },
     "inputWidgets": {},
     "nuid": "10f744d2-1d61-4f92-a807-bdf4a42938ce",
     "showTitle": true,
     "title": "Which top 5 car models of top 3 companies dominated the re-sale market?"
    }
   },
   "outputs": [
    {
     "output_type": "display_data",
     "data": {
      "text/html": [
       "<style scoped>\n",
       "  .table-result-container {\n",
       "    max-height: 300px;\n",
       "    overflow: auto;\n",
       "  }\n",
       "  table, th, td {\n",
       "    border: 1px solid black;\n",
       "    border-collapse: collapse;\n",
       "  }\n",
       "  th, td {\n",
       "    padding: 5px;\n",
       "  }\n",
       "  th {\n",
       "    text-align: left;\n",
       "  }\n",
       "</style><div class='table-result-container'><table class='table-result'><thead style='background-color: white'><tr><th>car_company</th><th>car_model</th><th>count_car_model</th><th>row_number</th></tr></thead><tbody><tr><td>Honda</td><td>Honda Brio S MT</td><td>81</td><td>1</td></tr><tr><td>Honda</td><td>Honda City i VTEC V</td><td>73</td><td>2</td></tr><tr><td>Honda</td><td>Honda WR-V i-VTEC VX</td><td>61</td><td>3</td></tr><tr><td>Honda</td><td>Honda City i VTEC CVT VX</td><td>58</td><td>4</td></tr><tr><td>Honda</td><td>Honda Amaze S i-Vtech</td><td>56</td><td>5</td></tr><tr><td>Hyundai</td><td>Hyundai Grand i10 Sportz</td><td>134</td><td>1</td></tr><tr><td>Hyundai</td><td>Hyundai i10 Magna</td><td>85</td><td>2</td></tr><tr><td>Hyundai</td><td>Hyundai i20 Sportz 1.2</td><td>85</td><td>3</td></tr><tr><td>Hyundai</td><td>Hyundai Grand i10 1.2 Kappa Sportz BSIV</td><td>69</td><td>4</td></tr><tr><td>Hyundai</td><td>Hyundai i20 Asta 1.2</td><td>69</td><td>5</td></tr><tr><td>Maruti</td><td>Maruti Swift VXI</td><td>229</td><td>1</td></tr><tr><td>Maruti</td><td>Maruti Alto 800 LXI</td><td>166</td><td>2</td></tr><tr><td>Maruti</td><td>Maruti Wagon R VXI BS IV</td><td>160</td><td>3</td></tr><tr><td>Maruti</td><td>Maruti Baleno 1.2 Delta</td><td>138</td><td>4</td></tr><tr><td>Maruti</td><td>Maruti Swift Dzire VXI</td><td>127</td><td>5</td></tr></tbody></table></div>"
      ]
     },
     "metadata": {
      "application/vnd.databricks.v1+output": {
       "addedWidgets": {},
       "aggData": [],
       "aggError": "",
       "aggOverflow": false,
       "aggSchema": [],
       "aggSeriesLimitReached": false,
       "aggType": "",
       "arguments": {},
       "columnCustomDisplayInfos": {},
       "data": [
        [
         "Honda",
         "Honda Brio S MT",
         81,
         1
        ],
        [
         "Honda",
         "Honda City i VTEC V",
         73,
         2
        ],
        [
         "Honda",
         "Honda WR-V i-VTEC VX",
         61,
         3
        ],
        [
         "Honda",
         "Honda City i VTEC CVT VX",
         58,
         4
        ],
        [
         "Honda",
         "Honda Amaze S i-Vtech",
         56,
         5
        ],
        [
         "Hyundai",
         "Hyundai Grand i10 Sportz",
         134,
         1
        ],
        [
         "Hyundai",
         "Hyundai i10 Magna",
         85,
         2
        ],
        [
         "Hyundai",
         "Hyundai i20 Sportz 1.2",
         85,
         3
        ],
        [
         "Hyundai",
         "Hyundai Grand i10 1.2 Kappa Sportz BSIV",
         69,
         4
        ],
        [
         "Hyundai",
         "Hyundai i20 Asta 1.2",
         69,
         5
        ],
        [
         "Maruti",
         "Maruti Swift VXI",
         229,
         1
        ],
        [
         "Maruti",
         "Maruti Alto 800 LXI",
         166,
         2
        ],
        [
         "Maruti",
         "Maruti Wagon R VXI BS IV",
         160,
         3
        ],
        [
         "Maruti",
         "Maruti Baleno 1.2 Delta",
         138,
         4
        ],
        [
         "Maruti",
         "Maruti Swift Dzire VXI",
         127,
         5
        ]
       ],
       "datasetInfos": [],
       "dbfsResultPath": null,
       "isJsonSchema": true,
       "metadata": {},
       "overflow": false,
       "plotOptions": {
        "customPlotOptions": {},
        "displayType": "table",
        "pivotAggregation": null,
        "pivotColumns": null,
        "xColumns": null,
        "yColumns": null
       },
       "removedWidgets": [],
       "schema": [
        {
         "metadata": "{}",
         "name": "car_company",
         "type": "\"string\""
        },
        {
         "metadata": "{}",
         "name": "car_model",
         "type": "\"string\""
        },
        {
         "metadata": "{}",
         "name": "count_car_model",
         "type": "\"long\""
        },
        {
         "metadata": "{}",
         "name": "row_number",
         "type": "\"integer\""
        }
       ],
       "type": "table"
      }
     },
     "output_type": "display_data"
    },
    {
     "output_type": "display_data",
     "data": {
      "text/plain": [
       "Databricks visualization. Run in Databricks to view."
      ]
     },
     "metadata": {
      "application/vnd.databricks.v1.subcommand+json": {
       "baseErrorDetails": null,
       "bindings": {},
       "collapsed": false,
       "command": "%python\n__backend_agg_display_orig = display\n__backend_agg_dfs = []\ndef __backend_agg_display_new(df):\n    __backend_agg_df_modules = [\"pandas.core.frame\", \"databricks.koalas.frame\", \"pyspark.sql.dataframe\", \"pyspark.pandas.frame\", \"pyspark.sql.connect.dataframe\"]\n    if (type(df).__module__ in __backend_agg_df_modules and type(df).__name__ == 'DataFrame') or isinstance(df, list):\n        __backend_agg_dfs.append(df)\n\ndisplay = __backend_agg_display_new\n\ndef __backend_agg_user_code_fn():\n    import base64\n    exec(base64.standard_b64decode(\"ZnJvbSBweXNwYXJrLnNxbC53aW5kb3cgaW1wb3J0IFdpbmRvdwoKVG9wX2Nhcl9tb2RlbHNfcGVyX2NvbXBhbnkgPSBkZi5zZWxlY3QoJ2Nhcl9jb21wYW55JywgJ2Nhcl9tb2RlbCcpIFwKICAgIC5maWx0ZXIoZGYuY2FyX2NvbXBhbnkuaXNpbihbJ01hcnV0aScsICdIeXVuZGFpJywgJ0hvbmRhJ10pKQoKIyBHcm91cGluZyBieSBjYXJfY29tcGFueSBhbmQgY2FyX21vZGVsLCBhbmQgYWdncmVnYXRpbmcgdGhlIGNvdW50IG9mIGNhcl9tb2RlbApUb3BfY2FyX21vZGVsc19wZXJfY29tcGFueSA9IFRvcF9jYXJfbW9kZWxzX3Blcl9jb21wYW55Lmdyb3VwYnkoImNhcl9jb21wYW55IiwgImNhcl9tb2RlbCIpLmFnZyhjb3VudCgiY2FyX21vZGVsIikuYWxpYXMoImNvdW50X2Nhcl9tb2RlbCIpKS5vcmRlckJ5KCJjYXJfY29tcGFueSIsIGRlc2MoImNvdW50X2Nhcl9tb2RlbCIpKQoKIyBEZWZpbmluZyB3aW5kb3cgc3BlY2lmaWNhdGlvbiB0byBwYXJ0aXRpb24gYnkgY2FyX2NvbXBhbnkgYW5kIG9yZGVyIGJ5IGNvdW50X2Nhcl9tb2RlbAp3aW5kb3dTcGVjID0gV2luZG93LnBhcnRpdGlvbkJ5KCJjYXJfY29tcGFueSIpLm9yZGVyQnkoZGVzYygiY291bnRfY2FyX21vZGVsIikpCgojIEFkZGluZyBhIHJvdyBudW1iZXIgY29sdW1uIHRvIGVhY2ggcGFydGl0aW9uIChjYXJfY29tcGFueSkKVG9wX2Nhcl9tb2RlbHNfcGVyX2NvbXBhbnkgPSBUb3BfY2FyX21vZGVsc19wZXJfY29tcGFueS53aXRoQ29sdW1uKCJyb3dfbnVtYmVyIiwgcm93X251bWJlcigpLm92ZXIod2luZG93U3BlYykpCgojIEZpbHRlcmluZyBvbmx5IHRoZSB0b3AgNSBjYXIgbW9kZWxzIGZvciBlYWNoIGNhciBjb21wYW55ClRvcF9jYXJfbW9kZWxzX3Blcl9jb21wYW55ID0gVG9wX2Nhcl9tb2RlbHNfcGVyX2NvbXBhbnkuZmlsdGVyKFRvcF9jYXJfbW9kZWxzX3Blcl9jb21wYW55LnJvd19udW1iZXIgPD0gNSkub3JkZXJCeSgiY2FyX2NvbXBhbnkiLCBkZXNjKCJjb3VudF9jYXJfbW9kZWwiKSkKCmRpc3BsYXkoVG9wX2Nhcl9tb2RlbHNfcGVyX2NvbXBhbnkpCg==\").decode())\n\ntry:\n    # run user code\n    __backend_agg_user_code_fn()\n\n    #reset display function\n    display = __backend_agg_display_orig\n\n    if len(__backend_agg_dfs) > 0:\n        # create a temp view\n        if type(__backend_agg_dfs[0]).__module__ == \"databricks.koalas.frame\":\n            # koalas dataframe\n            __backend_agg_dfs[0].to_spark().createOrReplaceTempView(\"DatabricksView5090292\")\n        elif type(__backend_agg_dfs[0]).__module__ == \"pandas.core.frame\" or isinstance(__backend_agg_dfs[0], list):\n            # pandas dataframe\n            spark.createDataFrame(__backend_agg_dfs[0]).createOrReplaceTempView(\"DatabricksView5090292\")\n        else:\n            __backend_agg_dfs[0].createOrReplaceTempView(\"DatabricksView5090292\")\n        #run backend agg\n        display(spark.sql(\"\"\"WITH q AS (select * from DatabricksView5090292) SELECT `car_model`,SUM(`count_car_model`) `column_b41f4e9c34`,`car_company` FROM q GROUP BY `car_company`,`car_model`\"\"\"))\n    else:\n        displayHTML(\"dataframe no longer exists. If you're using dataframe.display(), use display(dataframe) instead.\")\n\n\nfinally:\n    spark.sql(\"drop view if exists DatabricksView5090292\")\n    display = __backend_agg_display_orig\n    del __backend_agg_display_new\n    del __backend_agg_display_orig\n    del __backend_agg_dfs\n    del __backend_agg_user_code_fn\n\n",
       "commandTitle": "Visualization 1",
       "commandType": "auto",
       "commandVersion": 0,
       "commentThread": [],
       "commentsVisible": false,
       "contentSha256Hex": null,
       "customPlotOptions": {
        "redashChart": [
         {
          "key": "type",
          "value": "CHART"
         },
         {
          "key": "options",
          "value": {
           "alignYAxesAtZero": true,
           "coefficient": 1,
           "columnConfigurationMap": {
            "series": {
             "column": "car_company",
             "id": "column_b41f4e9c36"
            },
            "x": {
             "column": "car_model",
             "id": "column_b41f4e9c32"
            },
            "y": [
             {
              "column": "count_car_model",
              "id": "column_b41f4e9c34",
              "transform": "SUM"
             }
            ]
           },
           "dateTimeFormat": "DD/MM/YYYY HH:mm",
           "direction": {
            "type": "counterclockwise"
           },
           "error_y": {
            "type": "data",
            "visible": true
           },
           "globalSeriesType": "column",
           "hideYAxes": false,
           "isAggregationOn": true,
           "legend": {
            "traceorder": "reversed"
           },
           "missingValuesAsZero": true,
           "numberFormat": "0,0.[00000]",
           "percentFormat": "0[.]00%",
           "reverseX": true,
           "series": {
            "error_y": {
             "type": "data",
             "visible": true
            },
            "stacking": ""
           },
           "seriesOptions": {
            "Honda": {
             "color": "#9DDAE5",
             "yAxis": 0
            },
            "Hyundai": {
             "color": "#5395B4",
             "yAxis": 0
            },
            "Maruti": {
             "color": "#1B5280",
             "yAxis": 0
            },
            "column_b41f4e9c30": {
             "type": "column",
             "yAxis": 0
            },
            "column_b41f4e9c34": {
             "type": "column",
             "yAxis": 0
            }
           },
           "showDataLabels": false,
           "sizemode": "diameter",
           "sortX": true,
           "sortY": true,
           "swappedAxes": true,
           "textFormat": "",
           "useAggregationsUi": true,
           "valuesOptions": {},
           "version": 2,
           "xAxis": {
            "labels": {
             "enabled": true
            },
            "title": {
             "text": "Car Model"
            },
            "type": "-"
           },
           "yAxis": [
            {
             "title": {
              "text": "Number of Cars Sold"
             },
             "type": "-"
            },
            {
             "opposite": true,
             "type": "-"
            }
           ]
          }
         }
        ]
       },
       "datasetPreviewNameToCmdIdMap": {},
       "diffDeletes": [],
       "diffInserts": [],
       "displayType": "redashChart",
       "error": null,
       "errorDetails": null,
       "errorSummary": null,
       "errorTraceType": null,
       "finishTime": 0,
       "globalVars": {},
       "guid": "",
       "height": "auto",
       "hideCommandCode": false,
       "hideCommandResult": false,
       "iPythonMetadata": null,
       "inputWidgets": {},
       "isLockedInExamMode": false,
       "latestUser": "a user",
       "latestUserId": null,
       "listResultMetadata": null,
       "metadata": {
        "byteLimit": 2048000,
        "rowLimit": 10000
       },
       "nuid": "fff74a7f-3911-44a5-9805-9a89545d3b30",
       "origId": 0,
       "parentHierarchy": [],
       "pivotAggregation": null,
       "pivotColumns": null,
       "position": 47.0,
       "resultDbfsErrorMessage": null,
       "resultDbfsStatus": "INLINED_IN_TREE",
       "results": null,
       "showCommandTitle": false,
       "startTime": 0,
       "state": "input",
       "streamStates": {},
       "subcommandOptions": {
        "queryPlan": {
         "groups": [
          {
           "column": "car_model",
           "type": "column"
          },
          {
           "column": "car_company",
           "type": "column"
          }
         ],
         "selects": [
          {
           "column": "car_model",
           "type": "column"
          },
          {
           "alias": "column_b41f4e9c34",
           "args": [
            {
             "column": "count_car_model",
             "type": "column"
            }
           ],
           "function": "SUM",
           "type": "function"
          },
          {
           "column": "car_company",
           "type": "column"
          }
         ]
        }
       },
       "submitTime": 0,
       "subtype": "tableResultSubCmd.visualization",
       "tableResultIndex": 0,
       "useConsistentColors": false,
       "version": "CommandV1",
       "width": "auto",
       "workflows": [],
       "xColumns": null,
       "yColumns": null
      }
     },
     "output_type": "display_data"
    }
   ],
   "source": [
    "from pyspark.sql.window import Window\n",
    "\n",
    "Top_car_models_per_company = df.select('car_company', 'car_model') \\\n",
    "    .filter(df.car_company.isin(['Maruti', 'Hyundai', 'Honda']))\n",
    "\n",
    "# Grouping by car_company and car_model, and aggregating the count of car_model\n",
    "Top_car_models_per_company = Top_car_models_per_company.groupby(\"car_company\", \"car_model\").agg(count(\"car_model\").alias(\"count_car_model\")).orderBy(\"car_company\", desc(\"count_car_model\"))\n",
    "\n",
    "# Defining window specification to partition by car_company and order by count_car_model\n",
    "windowSpec = Window.partitionBy(\"car_company\").orderBy(desc(\"count_car_model\"))\n",
    "\n",
    "# Adding a row number column to each partition (car_company)\n",
    "Top_car_models_per_company = Top_car_models_per_company.withColumn(\"row_number\", row_number().over(windowSpec))\n",
    "\n",
    "# Filtering only the top 5 car models for each car company\n",
    "Top_car_models_per_company = Top_car_models_per_company.filter(Top_car_models_per_company.row_number <= 5).orderBy(\"car_company\", desc(\"count_car_model\"))\n",
    "\n",
    "display(Top_car_models_per_company)\n"
   ]
  },
  {
   "cell_type": "code",
   "execution_count": 0,
   "metadata": {
    "application/vnd.databricks.v1+cell": {
     "cellMetadata": {
      "byteLimit": 2048000,
      "implicitDf": true,
      "rowLimit": 10000
     },
     "inputWidgets": {},
     "nuid": "11a04ff1-fb28-427a-b934-699ad50e23dc",
     "showTitle": true,
     "title": " Retrieve Top 5 Cars With The Highest Resale Prices of Each Dominating Car Models."
    }
   },
   "outputs": [
    {
     "output_type": "display_data",
     "data": {
      "text/html": [
       "<style scoped>\n",
       "  .table-result-container {\n",
       "    max-height: 300px;\n",
       "    overflow: auto;\n",
       "  }\n",
       "  table, th, td {\n",
       "    border: 1px solid black;\n",
       "    border-collapse: collapse;\n",
       "  }\n",
       "  th, td {\n",
       "    padding: 5px;\n",
       "  }\n",
       "  th {\n",
       "    text-align: left;\n",
       "  }\n",
       "</style><div class='table-result-container'><table class='table-result'><thead style='background-color: white'><tr><th>car_model</th><th>registered_yr</th><th>Kms_driven</th><th>owner_type</th><th>insurance</th><th>city</th><th>resale_price_in_Lakh_Rupees</th><th>resale_price_precedence</th></tr></thead><tbody><tr><td>Honda Amaze S i-Vtech</td><td>2015</td><td>31881.0</td><td>First Owner</td><td>Comprehensive</td><td>Bangalore</td><td>5.05</td><td>1</td></tr><tr><td>Honda Amaze S i-Vtech</td><td>2016</td><td>26985.0</td><td>First Owner</td><td>Third Party insurance</td><td>Ahmedabad</td><td>4.91</td><td>2</td></tr><tr><td>Honda Amaze S i-Vtech</td><td>2016</td><td>120757.0</td><td>First Owner</td><td>Comprehensive</td><td>Chennai</td><td>4.88</td><td>3</td></tr><tr><td>Honda Amaze S i-Vtech</td><td>2016</td><td>66655.0</td><td>First Owner</td><td>Comprehensive</td><td>Bangalore</td><td>4.82</td><td>4</td></tr><tr><td>Honda Amaze S i-Vtech</td><td>2015</td><td>74385.0</td><td>First Owner</td><td>Third Party</td><td>Hyderabad</td><td>4.58</td><td>5</td></tr><tr><td>Honda Brio S MT</td><td>2016</td><td>65453.0</td><td>First Owner</td><td>Comprehensive</td><td>Bangalore</td><td>4.38</td><td>1</td></tr><tr><td>Honda Brio S MT</td><td>2016</td><td>65394.0</td><td>First Owner</td><td>Third Party insurance</td><td>Bangalore</td><td>4.24</td><td>2</td></tr><tr><td>Honda Brio S MT</td><td>2015</td><td>22262.0</td><td>Second Owner</td><td>Comprehensive</td><td>Bangalore</td><td>4.22</td><td>3</td></tr><tr><td>Honda Brio S MT</td><td>2013</td><td>50000.0</td><td>Third Owner</td><td>Third Party insurance</td><td>Pune</td><td>4.2</td><td>4</td></tr><tr><td>Honda Brio S MT</td><td>2013</td><td>38197.0</td><td>First Owner</td><td>Third Party</td><td>Bangalore</td><td>4.06</td><td>5</td></tr><tr><td>Honda City i VTEC CVT VX</td><td>2018</td><td>48979.0</td><td>First Owner</td><td>Third Party insurance</td><td>Bangalore</td><td>10.5</td><td>1</td></tr><tr><td>Honda City i VTEC CVT VX</td><td>2017</td><td>38000.0</td><td>First Owner</td><td>Comprehensive</td><td>Mumbai</td><td>9.3</td><td>2</td></tr><tr><td>Honda City i VTEC CVT VX</td><td>2017</td><td>76087.0</td><td>First Owner</td><td>Comprehensive</td><td>Bangalore</td><td>8.82</td><td>3</td></tr><tr><td>Honda City i VTEC CVT VX</td><td>2018</td><td>25791.0</td><td>First Owner</td><td>Comprehensive</td><td>Jaipur</td><td>8.68</td><td>4</td></tr><tr><td>Honda City i VTEC CVT VX</td><td>2016</td><td>32000.0</td><td>First Owner</td><td>Comprehensive</td><td>Chennai</td><td>8.6</td><td>5</td></tr><tr><td>Honda City i VTEC V</td><td>2017</td><td>60000.0</td><td>Second Owner</td><td>Third Party insurance</td><td>Delhi</td><td>8.35</td><td>1</td></tr><tr><td>Honda City i VTEC V</td><td>2017</td><td>40000.0</td><td>Second Owner</td><td>Third Party insurance</td><td>Hyderabad</td><td>8.25</td><td>2</td></tr><tr><td>Honda City i VTEC V</td><td>2017</td><td>40000.0</td><td>First Owner</td><td>Third Party insurance</td><td>Pune</td><td>7.85</td><td>3</td></tr><tr><td>Honda City i VTEC V</td><td>2017</td><td>56359.0</td><td>First Owner</td><td>Comprehensive</td><td>Delhi</td><td>7.77</td><td>4</td></tr><tr><td>Honda City i VTEC V</td><td>2017</td><td>58933.0</td><td>Second Owner</td><td>Third Party</td><td>Chennai</td><td>7.76</td><td>5</td></tr><tr><td>Honda WR-V i-VTEC VX</td><td>2019</td><td>74862.0</td><td>First Owner</td><td>Without Insuarance</td><td>Chandigarh</td><td>10.5</td><td>1</td></tr><tr><td>Honda WR-V i-VTEC VX</td><td>2018</td><td>45000.0</td><td>First Owner</td><td>Comprehensive</td><td>Chennai</td><td>9.25</td><td>2</td></tr><tr><td>Honda WR-V i-VTEC VX</td><td>2019</td><td>51338.0</td><td>First Owner</td><td>Comprehensive</td><td>Bangalore</td><td>8.95</td><td>3</td></tr><tr><td>Honda WR-V i-VTEC VX</td><td>2019</td><td>51338.0</td><td>First Owner</td><td>Comprehensive</td><td>Bangalore</td><td>8.75</td><td>4</td></tr><tr><td>Honda WR-V i-VTEC VX</td><td>2018</td><td>46602.0</td><td>First Owner</td><td>Comprehensive</td><td>Bangalore</td><td>8.65</td><td>5</td></tr><tr><td>Hyundai Grand i10 1.2 Kappa Sportz BSIV</td><td>2018</td><td>8752.0</td><td>First Owner</td><td>Comprehensive</td><td>Bangalore</td><td>6.55</td><td>1</td></tr><tr><td>Hyundai Grand i10 1.2 Kappa Sportz BSIV</td><td>2019</td><td>36176.0</td><td>First Owner</td><td>Third Party insurance</td><td>Bangalore</td><td>6.15</td><td>2</td></tr><tr><td>Hyundai Grand i10 1.2 Kappa Sportz BSIV</td><td>2019</td><td>30944.0</td><td>First Owner</td><td>Without Insuarance</td><td>Chandigarh</td><td>6.14</td><td>3</td></tr><tr><td>Hyundai Grand i10 1.2 Kappa Sportz BSIV</td><td>2019</td><td>11500.0</td><td>First Owner</td><td>Third Party insurance</td><td>Hyderabad</td><td>5.99</td><td>4</td></tr><tr><td>Hyundai Grand i10 1.2 Kappa Sportz BSIV</td><td>2019</td><td>26340.0</td><td>Second Owner</td><td>Zero Dep</td><td>Delhi</td><td>5.9</td><td>5</td></tr><tr><td>Hyundai Grand i10 Sportz</td><td>2021</td><td>40000.0</td><td>First Owner</td><td>Third Party insurance</td><td>Mumbai</td><td>6.2</td><td>1</td></tr><tr><td>Hyundai Grand i10 Sportz</td><td>2018</td><td>87100.0</td><td>First Owner</td><td>Comprehensive</td><td>Pune</td><td>5.75</td><td>2</td></tr><tr><td>Hyundai Grand i10 Sportz</td><td>2017</td><td>66000.0</td><td>First Owner</td><td>Comprehensive</td><td>Bangalore</td><td>5.5</td><td>3</td></tr><tr><td>Hyundai Grand i10 Sportz</td><td>2019</td><td>51000.0</td><td>First Owner</td><td>Comprehensive</td><td>Delhi</td><td>5.5</td><td>4</td></tr><tr><td>Hyundai Grand i10 Sportz</td><td>2020</td><td>80000.0</td><td>First Owner</td><td>Third Party insurance</td><td>Jaipur</td><td>5.45</td><td>5</td></tr><tr><td>Hyundai i10 Magna</td><td>2016</td><td>34000.0</td><td>First Owner</td><td>Comprehensive</td><td>Bangalore</td><td>5.58</td><td>1</td></tr><tr><td>Hyundai i10 Magna</td><td>2016</td><td>92183.0</td><td>First Owner</td><td>Comprehensive</td><td>Chennai</td><td>3.9</td><td>2</td></tr><tr><td>Hyundai i10 Magna</td><td>2013</td><td>40000.0</td><td>First Owner</td><td>Comprehensive</td><td>Chennai</td><td>3.7</td><td>3</td></tr><tr><td>Hyundai i10 Magna</td><td>2013</td><td>51234.0</td><td>First Owner</td><td>Comprehensive</td><td>Chennai</td><td>3.5</td><td>4</td></tr><tr><td>Hyundai i10 Magna</td><td>2013</td><td>56979.0</td><td>Second Owner</td><td>Third Party</td><td>Hyderabad</td><td>3.48</td><td>5</td></tr><tr><td>Hyundai i20 Asta 1.2</td><td>2018</td><td>34545.0</td><td>First Owner</td><td>Third Party insurance</td><td>Mumbai</td><td>7.25</td><td>1</td></tr><tr><td>Hyundai i20 Asta 1.2</td><td>2019</td><td>69158.0</td><td>First Owner</td><td>Comprehensive</td><td>Pune</td><td>7.25</td><td>2</td></tr><tr><td>Hyundai i20 Asta 1.2</td><td>2018</td><td>27468.0</td><td>First Owner</td><td>Comprehensive</td><td>Pune</td><td>7.15</td><td>3</td></tr><tr><td>Hyundai i20 Asta 1.2</td><td>2016</td><td>58715.0</td><td>First Owner</td><td>Zero Dep</td><td>Bangalore</td><td>6.98</td><td>4</td></tr><tr><td>Hyundai i20 Asta 1.2</td><td>2016</td><td>45578.0</td><td>First Owner</td><td>Third Party insurance</td><td>Bangalore</td><td>6.95</td><td>5</td></tr><tr><td>Hyundai i20 Sportz 1.2</td><td>2017</td><td>49691.0</td><td>First Owner</td><td>Without Insuarance</td><td>Chandigarh</td><td>7.0</td><td>1</td></tr><tr><td>Hyundai i20 Sportz 1.2</td><td>2020</td><td>40000.0</td><td>First Owner</td><td>Third Party insurance</td><td>Agra</td><td>6.9</td><td>2</td></tr><tr><td>Hyundai i20 Sportz 1.2</td><td>2017</td><td>52561.0</td><td>First Owner</td><td>Comprehensive</td><td>Bangalore</td><td>6.89</td><td>3</td></tr><tr><td>Hyundai i20 Sportz 1.2</td><td>2017</td><td>62621.0</td><td>First Owner</td><td>Zero Dep</td><td>Bangalore</td><td>6.69</td><td>4</td></tr><tr><td>Hyundai i20 Sportz 1.2</td><td>2017</td><td>48285.0</td><td>First Owner</td><td>Comprehensive</td><td>Bangalore</td><td>6.58</td><td>5</td></tr><tr><td>Maruti Alto 800 LXI</td><td>2007</td><td>30000.0</td><td>Second Owner</td><td>Third Party insurance</td><td>Kolkata</td><td>8.71</td><td>1</td></tr><tr><td>Maruti Alto 800 LXI</td><td>2022</td><td>10000.0</td><td>First Owner</td><td>Third Party insurance</td><td>Gurgaon</td><td>4.0</td><td>2</td></tr><tr><td>Maruti Alto 800 LXI</td><td>2020</td><td>50000.0</td><td>First Owner</td><td>Third Party insurance</td><td>Pune</td><td>3.8</td><td>3</td></tr><tr><td>Maruti Alto 800 LXI</td><td>2020</td><td>44694.0</td><td>First Owner</td><td>Third Party</td><td>Hyderabad</td><td>3.71</td><td>4</td></tr><tr><td>Maruti Alto 800 LXI</td><td>2021</td><td>20000.0</td><td>First Owner</td><td>Third Party insurance</td><td>Delhi</td><td>3.7</td><td>5</td></tr><tr><td>Maruti Alto K10 VXI</td><td>2019</td><td>45295.0</td><td>First Owner</td><td>Third Party insurance</td><td>Bangalore</td><td>4.55</td><td>1</td></tr><tr><td>Maruti Alto K10 VXI</td><td>2018</td><td>17908.0</td><td>First Owner</td><td>Third Party insurance</td><td>Chandigarh</td><td>3.9</td><td>2</td></tr><tr><td>Maruti Alto K10 VXI</td><td>2018</td><td>18228.0</td><td>Second Owner</td><td>Third Party insurance</td><td>Chennai</td><td>3.82</td><td>3</td></tr><tr><td>Maruti Alto K10 VXI</td><td>2017</td><td>18861.0</td><td>Second Owner</td><td>Comprehensive</td><td>Chennai</td><td>3.78</td><td>4</td></tr><tr><td>Maruti Alto K10 VXI</td><td>2019</td><td>21152.0</td><td>Third Owner</td><td>Third Party</td><td>Chandigarh</td><td>3.76</td><td>5</td></tr><tr><td>Maruti Baleno 1.2 Delta</td><td>2016</td><td>57322.0</td><td>First Owner</td><td>Comprehensive</td><td>Bangalore</td><td>7.2</td><td>1</td></tr><tr><td>Maruti Baleno 1.2 Delta</td><td>2018</td><td>79000.0</td><td>First Owner</td><td>Second Party Insuarance</td><td>Bangalore</td><td>6.9</td><td>2</td></tr><tr><td>Maruti Baleno 1.2 Delta</td><td>2019</td><td>27000.0</td><td>First Owner</td><td>Comprehensive</td><td>Chennai</td><td>6.9</td><td>3</td></tr><tr><td>Maruti Baleno 1.2 Delta</td><td>2019</td><td>40429.0</td><td>First Owner</td><td>Third Party insurance</td><td>Hyderabad</td><td>6.9</td><td>4</td></tr><tr><td>Maruti Baleno 1.2 Delta</td><td>2019</td><td>55259.0</td><td>First Owner</td><td>Third Party insurance</td><td>Hyderabad</td><td>6.85</td><td>5</td></tr><tr><td>Maruti Swift Dzire VXI</td><td>2021</td><td>25581.0</td><td>First Owner</td><td>Comprehensive</td><td>Chennai</td><td>7.5</td><td>1</td></tr><tr><td>Maruti Swift Dzire VXI</td><td>2017</td><td>53392.0</td><td>First Owner</td><td>Third Party</td><td>Pune</td><td>6.47</td><td>2</td></tr><tr><td>Maruti Swift Dzire VXI</td><td>2015</td><td>74104.0</td><td>First Owner</td><td>Third Party insurance</td><td>Bangalore</td><td>6.01</td><td>3</td></tr><tr><td>Maruti Swift Dzire VXI</td><td>2017</td><td>46892.0</td><td>First Owner</td><td>Third Party insurance</td><td>Mumbai</td><td>5.95</td><td>4</td></tr><tr><td>Maruti Swift Dzire VXI</td><td>2017</td><td>51400.0</td><td>First Owner</td><td>Comprehensive</td><td>Pune</td><td>5.9</td><td>5</td></tr><tr><td>Maruti Swift VXI</td><td>2021</td><td>12983.0</td><td>First Owner</td><td>Comprehensive</td><td>Bangalore</td><td>7.75</td><td>1</td></tr><tr><td>Maruti Swift VXI</td><td>2022</td><td>13058.0</td><td>First Owner</td><td>Zero Dep</td><td>Bangalore</td><td>7.74</td><td>2</td></tr><tr><td>Maruti Swift VXI</td><td>2021</td><td>7888.0</td><td>First Owner</td><td>Comprehensive</td><td>Pune</td><td>7.7</td><td>3</td></tr><tr><td>Maruti Swift VXI</td><td>2021</td><td>29093.0</td><td>First Owner</td><td>Comprehensive</td><td>Chennai</td><td>7.6</td><td>4</td></tr><tr><td>Maruti Swift VXI</td><td>2022</td><td>5973.0</td><td>Second Owner</td><td>Comprehensive</td><td>Bangalore</td><td>7.43</td><td>5</td></tr><tr><td>Maruti Wagon R LXI CNG</td><td>2019</td><td>70000.0</td><td>First Owner</td><td>Third Party insurance</td><td>Ahmedabad</td><td>4.75</td><td>1</td></tr><tr><td>Maruti Wagon R LXI CNG</td><td>2017</td><td>55057.0</td><td>First Owner</td><td>Third Party</td><td>Pune</td><td>4.56</td><td>2</td></tr><tr><td>Maruti Wagon R LXI CNG</td><td>2018</td><td>60000.0</td><td>First Owner</td><td>Third Party insurance</td><td>Pune</td><td>4.5</td><td>3</td></tr><tr><td>Maruti Wagon R LXI CNG</td><td>2019</td><td>65000.0</td><td>First Owner</td><td>Comprehensive</td><td>Mumbai</td><td>4.45</td><td>4</td></tr><tr><td>Maruti Wagon R LXI CNG</td><td>2019</td><td>45199.0</td><td>Second Owner</td><td>Comprehensive</td><td>Pune</td><td>4.42</td><td>5</td></tr><tr><td>Maruti Wagon R VXI BS IV</td><td>2018</td><td>56431.0</td><td>First Owner</td><td>Third Party insurance</td><td>Bangalore</td><td>5.25</td><td>1</td></tr><tr><td>Maruti Wagon R VXI BS IV</td><td>2018</td><td>37337.0</td><td>First Owner</td><td>Third Party insurance</td><td>Bangalore</td><td>4.63</td><td>2</td></tr><tr><td>Maruti Wagon R VXI BS IV</td><td>2017</td><td>58659.0</td><td>First Owner</td><td>Comprehensive</td><td>Bangalore</td><td>4.62</td><td>3</td></tr><tr><td>Maruti Wagon R VXI BS IV</td><td>2018</td><td>16338.0</td><td>Second Owner</td><td>Third Party insurance</td><td>Jaipur</td><td>4.55</td><td>4</td></tr><tr><td>Maruti Wagon R VXI BS IV</td><td>2019</td><td>15000.0</td><td>First Owner</td><td>Comprehensive</td><td>Kolkata</td><td>4.5</td><td>5</td></tr></tbody></table></div>"
      ]
     },
     "metadata": {
      "application/vnd.databricks.v1+output": {
       "addedWidgets": {},
       "aggData": [],
       "aggError": "",
       "aggOverflow": false,
       "aggSchema": [],
       "aggSeriesLimitReached": false,
       "aggType": "",
       "arguments": {},
       "columnCustomDisplayInfos": {},
       "data": [
        [
         "Honda Amaze S i-Vtech",
         2015,
         31881.0,
         "First Owner",
         "Comprehensive",
         "Bangalore",
         5.05,
         1
        ],
        [
         "Honda Amaze S i-Vtech",
         2016,
         26985.0,
         "First Owner",
         "Third Party insurance",
         "Ahmedabad",
         4.91,
         2
        ],
        [
         "Honda Amaze S i-Vtech",
         2016,
         120757.0,
         "First Owner",
         "Comprehensive",
         "Chennai",
         4.88,
         3
        ],
        [
         "Honda Amaze S i-Vtech",
         2016,
         66655.0,
         "First Owner",
         "Comprehensive",
         "Bangalore",
         4.82,
         4
        ],
        [
         "Honda Amaze S i-Vtech",
         2015,
         74385.0,
         "First Owner",
         "Third Party",
         "Hyderabad",
         4.58,
         5
        ],
        [
         "Honda Brio S MT",
         2016,
         65453.0,
         "First Owner",
         "Comprehensive",
         "Bangalore",
         4.38,
         1
        ],
        [
         "Honda Brio S MT",
         2016,
         65394.0,
         "First Owner",
         "Third Party insurance",
         "Bangalore",
         4.24,
         2
        ],
        [
         "Honda Brio S MT",
         2015,
         22262.0,
         "Second Owner",
         "Comprehensive",
         "Bangalore",
         4.22,
         3
        ],
        [
         "Honda Brio S MT",
         2013,
         50000.0,
         "Third Owner",
         "Third Party insurance",
         "Pune",
         4.2,
         4
        ],
        [
         "Honda Brio S MT",
         2013,
         38197.0,
         "First Owner",
         "Third Party",
         "Bangalore",
         4.06,
         5
        ],
        [
         "Honda City i VTEC CVT VX",
         2018,
         48979.0,
         "First Owner",
         "Third Party insurance",
         "Bangalore",
         10.5,
         1
        ],
        [
         "Honda City i VTEC CVT VX",
         2017,
         38000.0,
         "First Owner",
         "Comprehensive",
         "Mumbai",
         9.3,
         2
        ],
        [
         "Honda City i VTEC CVT VX",
         2017,
         76087.0,
         "First Owner",
         "Comprehensive",
         "Bangalore",
         8.82,
         3
        ],
        [
         "Honda City i VTEC CVT VX",
         2018,
         25791.0,
         "First Owner",
         "Comprehensive",
         "Jaipur",
         8.68,
         4
        ],
        [
         "Honda City i VTEC CVT VX",
         2016,
         32000.0,
         "First Owner",
         "Comprehensive",
         "Chennai",
         8.6,
         5
        ],
        [
         "Honda City i VTEC V",
         2017,
         60000.0,
         "Second Owner",
         "Third Party insurance",
         "Delhi",
         8.35,
         1
        ],
        [
         "Honda City i VTEC V",
         2017,
         40000.0,
         "Second Owner",
         "Third Party insurance",
         "Hyderabad",
         8.25,
         2
        ],
        [
         "Honda City i VTEC V",
         2017,
         40000.0,
         "First Owner",
         "Third Party insurance",
         "Pune",
         7.85,
         3
        ],
        [
         "Honda City i VTEC V",
         2017,
         56359.0,
         "First Owner",
         "Comprehensive",
         "Delhi",
         7.77,
         4
        ],
        [
         "Honda City i VTEC V",
         2017,
         58933.0,
         "Second Owner",
         "Third Party",
         "Chennai",
         7.76,
         5
        ],
        [
         "Honda WR-V i-VTEC VX",
         2019,
         74862.0,
         "First Owner",
         "Without Insuarance",
         "Chandigarh",
         10.5,
         1
        ],
        [
         "Honda WR-V i-VTEC VX",
         2018,
         45000.0,
         "First Owner",
         "Comprehensive",
         "Chennai",
         9.25,
         2
        ],
        [
         "Honda WR-V i-VTEC VX",
         2019,
         51338.0,
         "First Owner",
         "Comprehensive",
         "Bangalore",
         8.95,
         3
        ],
        [
         "Honda WR-V i-VTEC VX",
         2019,
         51338.0,
         "First Owner",
         "Comprehensive",
         "Bangalore",
         8.75,
         4
        ],
        [
         "Honda WR-V i-VTEC VX",
         2018,
         46602.0,
         "First Owner",
         "Comprehensive",
         "Bangalore",
         8.65,
         5
        ],
        [
         "Hyundai Grand i10 1.2 Kappa Sportz BSIV",
         2018,
         8752.0,
         "First Owner",
         "Comprehensive",
         "Bangalore",
         6.55,
         1
        ],
        [
         "Hyundai Grand i10 1.2 Kappa Sportz BSIV",
         2019,
         36176.0,
         "First Owner",
         "Third Party insurance",
         "Bangalore",
         6.15,
         2
        ],
        [
         "Hyundai Grand i10 1.2 Kappa Sportz BSIV",
         2019,
         30944.0,
         "First Owner",
         "Without Insuarance",
         "Chandigarh",
         6.14,
         3
        ],
        [
         "Hyundai Grand i10 1.2 Kappa Sportz BSIV",
         2019,
         11500.0,
         "First Owner",
         "Third Party insurance",
         "Hyderabad",
         5.99,
         4
        ],
        [
         "Hyundai Grand i10 1.2 Kappa Sportz BSIV",
         2019,
         26340.0,
         "Second Owner",
         "Zero Dep",
         "Delhi",
         5.9,
         5
        ],
        [
         "Hyundai Grand i10 Sportz",
         2021,
         40000.0,
         "First Owner",
         "Third Party insurance",
         "Mumbai",
         6.2,
         1
        ],
        [
         "Hyundai Grand i10 Sportz",
         2018,
         87100.0,
         "First Owner",
         "Comprehensive",
         "Pune",
         5.75,
         2
        ],
        [
         "Hyundai Grand i10 Sportz",
         2017,
         66000.0,
         "First Owner",
         "Comprehensive",
         "Bangalore",
         5.5,
         3
        ],
        [
         "Hyundai Grand i10 Sportz",
         2019,
         51000.0,
         "First Owner",
         "Comprehensive",
         "Delhi",
         5.5,
         4
        ],
        [
         "Hyundai Grand i10 Sportz",
         2020,
         80000.0,
         "First Owner",
         "Third Party insurance",
         "Jaipur",
         5.45,
         5
        ],
        [
         "Hyundai i10 Magna",
         2016,
         34000.0,
         "First Owner",
         "Comprehensive",
         "Bangalore",
         5.58,
         1
        ],
        [
         "Hyundai i10 Magna",
         2016,
         92183.0,
         "First Owner",
         "Comprehensive",
         "Chennai",
         3.9,
         2
        ],
        [
         "Hyundai i10 Magna",
         2013,
         40000.0,
         "First Owner",
         "Comprehensive",
         "Chennai",
         3.7,
         3
        ],
        [
         "Hyundai i10 Magna",
         2013,
         51234.0,
         "First Owner",
         "Comprehensive",
         "Chennai",
         3.5,
         4
        ],
        [
         "Hyundai i10 Magna",
         2013,
         56979.0,
         "Second Owner",
         "Third Party",
         "Hyderabad",
         3.48,
         5
        ],
        [
         "Hyundai i20 Asta 1.2",
         2018,
         34545.0,
         "First Owner",
         "Third Party insurance",
         "Mumbai",
         7.25,
         1
        ],
        [
         "Hyundai i20 Asta 1.2",
         2019,
         69158.0,
         "First Owner",
         "Comprehensive",
         "Pune",
         7.25,
         2
        ],
        [
         "Hyundai i20 Asta 1.2",
         2018,
         27468.0,
         "First Owner",
         "Comprehensive",
         "Pune",
         7.15,
         3
        ],
        [
         "Hyundai i20 Asta 1.2",
         2016,
         58715.0,
         "First Owner",
         "Zero Dep",
         "Bangalore",
         6.98,
         4
        ],
        [
         "Hyundai i20 Asta 1.2",
         2016,
         45578.0,
         "First Owner",
         "Third Party insurance",
         "Bangalore",
         6.95,
         5
        ],
        [
         "Hyundai i20 Sportz 1.2",
         2017,
         49691.0,
         "First Owner",
         "Without Insuarance",
         "Chandigarh",
         7.0,
         1
        ],
        [
         "Hyundai i20 Sportz 1.2",
         2020,
         40000.0,
         "First Owner",
         "Third Party insurance",
         "Agra",
         6.9,
         2
        ],
        [
         "Hyundai i20 Sportz 1.2",
         2017,
         52561.0,
         "First Owner",
         "Comprehensive",
         "Bangalore",
         6.89,
         3
        ],
        [
         "Hyundai i20 Sportz 1.2",
         2017,
         62621.0,
         "First Owner",
         "Zero Dep",
         "Bangalore",
         6.69,
         4
        ],
        [
         "Hyundai i20 Sportz 1.2",
         2017,
         48285.0,
         "First Owner",
         "Comprehensive",
         "Bangalore",
         6.58,
         5
        ],
        [
         "Maruti Alto 800 LXI",
         2007,
         30000.0,
         "Second Owner",
         "Third Party insurance",
         "Kolkata",
         8.71,
         1
        ],
        [
         "Maruti Alto 800 LXI",
         2022,
         10000.0,
         "First Owner",
         "Third Party insurance",
         "Gurgaon",
         4.0,
         2
        ],
        [
         "Maruti Alto 800 LXI",
         2020,
         50000.0,
         "First Owner",
         "Third Party insurance",
         "Pune",
         3.8,
         3
        ],
        [
         "Maruti Alto 800 LXI",
         2020,
         44694.0,
         "First Owner",
         "Third Party",
         "Hyderabad",
         3.71,
         4
        ],
        [
         "Maruti Alto 800 LXI",
         2021,
         20000.0,
         "First Owner",
         "Third Party insurance",
         "Delhi",
         3.7,
         5
        ],
        [
         "Maruti Alto K10 VXI",
         2019,
         45295.0,
         "First Owner",
         "Third Party insurance",
         "Bangalore",
         4.55,
         1
        ],
        [
         "Maruti Alto K10 VXI",
         2018,
         17908.0,
         "First Owner",
         "Third Party insurance",
         "Chandigarh",
         3.9,
         2
        ],
        [
         "Maruti Alto K10 VXI",
         2018,
         18228.0,
         "Second Owner",
         "Third Party insurance",
         "Chennai",
         3.82,
         3
        ],
        [
         "Maruti Alto K10 VXI",
         2017,
         18861.0,
         "Second Owner",
         "Comprehensive",
         "Chennai",
         3.78,
         4
        ],
        [
         "Maruti Alto K10 VXI",
         2019,
         21152.0,
         "Third Owner",
         "Third Party",
         "Chandigarh",
         3.76,
         5
        ],
        [
         "Maruti Baleno 1.2 Delta",
         2016,
         57322.0,
         "First Owner",
         "Comprehensive",
         "Bangalore",
         7.2,
         1
        ],
        [
         "Maruti Baleno 1.2 Delta",
         2018,
         79000.0,
         "First Owner",
         "Second Party Insuarance",
         "Bangalore",
         6.9,
         2
        ],
        [
         "Maruti Baleno 1.2 Delta",
         2019,
         27000.0,
         "First Owner",
         "Comprehensive",
         "Chennai",
         6.9,
         3
        ],
        [
         "Maruti Baleno 1.2 Delta",
         2019,
         40429.0,
         "First Owner",
         "Third Party insurance",
         "Hyderabad",
         6.9,
         4
        ],
        [
         "Maruti Baleno 1.2 Delta",
         2019,
         55259.0,
         "First Owner",
         "Third Party insurance",
         "Hyderabad",
         6.85,
         5
        ],
        [
         "Maruti Swift Dzire VXI",
         2021,
         25581.0,
         "First Owner",
         "Comprehensive",
         "Chennai",
         7.5,
         1
        ],
        [
         "Maruti Swift Dzire VXI",
         2017,
         53392.0,
         "First Owner",
         "Third Party",
         "Pune",
         6.47,
         2
        ],
        [
         "Maruti Swift Dzire VXI",
         2015,
         74104.0,
         "First Owner",
         "Third Party insurance",
         "Bangalore",
         6.01,
         3
        ],
        [
         "Maruti Swift Dzire VXI",
         2017,
         46892.0,
         "First Owner",
         "Third Party insurance",
         "Mumbai",
         5.95,
         4
        ],
        [
         "Maruti Swift Dzire VXI",
         2017,
         51400.0,
         "First Owner",
         "Comprehensive",
         "Pune",
         5.9,
         5
        ],
        [
         "Maruti Swift VXI",
         2021,
         12983.0,
         "First Owner",
         "Comprehensive",
         "Bangalore",
         7.75,
         1
        ],
        [
         "Maruti Swift VXI",
         2022,
         13058.0,
         "First Owner",
         "Zero Dep",
         "Bangalore",
         7.74,
         2
        ],
        [
         "Maruti Swift VXI",
         2021,
         7888.0,
         "First Owner",
         "Comprehensive",
         "Pune",
         7.7,
         3
        ],
        [
         "Maruti Swift VXI",
         2021,
         29093.0,
         "First Owner",
         "Comprehensive",
         "Chennai",
         7.6,
         4
        ],
        [
         "Maruti Swift VXI",
         2022,
         5973.0,
         "Second Owner",
         "Comprehensive",
         "Bangalore",
         7.43,
         5
        ],
        [
         "Maruti Wagon R LXI CNG",
         2019,
         70000.0,
         "First Owner",
         "Third Party insurance",
         "Ahmedabad",
         4.75,
         1
        ],
        [
         "Maruti Wagon R LXI CNG",
         2017,
         55057.0,
         "First Owner",
         "Third Party",
         "Pune",
         4.56,
         2
        ],
        [
         "Maruti Wagon R LXI CNG",
         2018,
         60000.0,
         "First Owner",
         "Third Party insurance",
         "Pune",
         4.5,
         3
        ],
        [
         "Maruti Wagon R LXI CNG",
         2019,
         65000.0,
         "First Owner",
         "Comprehensive",
         "Mumbai",
         4.45,
         4
        ],
        [
         "Maruti Wagon R LXI CNG",
         2019,
         45199.0,
         "Second Owner",
         "Comprehensive",
         "Pune",
         4.42,
         5
        ],
        [
         "Maruti Wagon R VXI BS IV",
         2018,
         56431.0,
         "First Owner",
         "Third Party insurance",
         "Bangalore",
         5.25,
         1
        ],
        [
         "Maruti Wagon R VXI BS IV",
         2018,
         37337.0,
         "First Owner",
         "Third Party insurance",
         "Bangalore",
         4.63,
         2
        ],
        [
         "Maruti Wagon R VXI BS IV",
         2017,
         58659.0,
         "First Owner",
         "Comprehensive",
         "Bangalore",
         4.62,
         3
        ],
        [
         "Maruti Wagon R VXI BS IV",
         2018,
         16338.0,
         "Second Owner",
         "Third Party insurance",
         "Jaipur",
         4.55,
         4
        ],
        [
         "Maruti Wagon R VXI BS IV",
         2019,
         15000.0,
         "First Owner",
         "Comprehensive",
         "Kolkata",
         4.5,
         5
        ]
       ],
       "datasetInfos": [],
       "dbfsResultPath": null,
       "isJsonSchema": true,
       "metadata": {},
       "overflow": false,
       "plotOptions": {
        "customPlotOptions": {},
        "displayType": "table",
        "pivotAggregation": null,
        "pivotColumns": null,
        "xColumns": null,
        "yColumns": null
       },
       "removedWidgets": [],
       "schema": [
        {
         "metadata": "{}",
         "name": "car_model",
         "type": "\"string\""
        },
        {
         "metadata": "{}",
         "name": "registered_yr",
         "type": "\"integer\""
        },
        {
         "metadata": "{}",
         "name": "Kms_driven",
         "type": "\"double\""
        },
        {
         "metadata": "{}",
         "name": "owner_type",
         "type": "\"string\""
        },
        {
         "metadata": "{}",
         "name": "insurance",
         "type": "\"string\""
        },
        {
         "metadata": "{}",
         "name": "city",
         "type": "\"string\""
        },
        {
         "metadata": "{}",
         "name": "resale_price_in_Lakh_Rupees",
         "type": "\"double\""
        },
        {
         "metadata": "{}",
         "name": "resale_price_precedence",
         "type": "\"integer\""
        }
       ],
       "type": "table"
      }
     },
     "output_type": "display_data"
    }
   ],
   "source": [
    "%sql\n",
    "-- Get the details of top 5 cars with  highest resale price in descing order for each dominating car model.\n",
    "select\n",
    "  *\n",
    "from\n",
    "  (\n",
    "    SELECT\n",
    "      car_model,\n",
    "      registered_yr,\n",
    "      Kms_driven,\n",
    "      owner_type,\n",
    "      insurance,\n",
    "      city,\n",
    "      resale_price_in_Lakh_Rupees,\n",
    "      row_number() over (\n",
    "        PARTITION BY car_model\n",
    "        ORDER BY\n",
    "          resale_price_in_Lakh_Rupees DESC\n",
    "      ) AS resale_price_precedence\n",
    "    FROM\n",
    "      default.cleaned_data\n",
    "    WHERE\n",
    "      car_model in (\n",
    "        'Maruti Swift VXI',\n",
    "        'Maruti Alto 800 LXI',\n",
    "        'Maruti Wagon R VXI BS IV',\n",
    "        'Maruti Baleno 1.2 Delta',\n",
    "        'Hyundai Grand i10 Sportz',\n",
    "        'Maruti Swift Dzire VXI',\n",
    "        'Maruti Alto K10 VXI',\n",
    "        'Maruti Wagon R LXI CNG',\n",
    "        'Hyundai i20 Sportz 1.2',\n",
    "        'Hyundai i10 Magna',\n",
    "        'Hyundai Grand i10 1.2 Kappa Sportz BSIV',\n",
    "        'Hyundai i20 Asta 1.2',\n",
    "        'Honda Amaze S i-Vtech',\n",
    "        'Honda City i VTEC CVT VX',\n",
    "        'Honda WR-V i-VTEC VX',\n",
    "        'Honda City i VTEC V',\n",
    "        'Honda Brio S MT'\n",
    "      )\n",
    "  )\n",
    "where\n",
    "  resale_price_precedence <= 5;\n",
    "-- fetching only top 5 rows from each partitions."
   ]
  },
  {
   "cell_type": "code",
   "execution_count": 0,
   "metadata": {
    "application/vnd.databricks.v1+cell": {
     "cellMetadata": {
      "byteLimit": 2048000,
      "rowLimit": 10000
     },
     "inputWidgets": {},
     "nuid": "fae16699-9079-4134-aba2-30b8abd32ff5",
     "showTitle": true,
     "title": " Car Resale Trends Based on Registration Years."
    }
   },
   "outputs": [
    {
     "output_type": "display_data",
     "data": {
      "text/html": [
       "<style scoped>\n",
       "  .table-result-container {\n",
       "    max-height: 300px;\n",
       "    overflow: auto;\n",
       "  }\n",
       "  table, th, td {\n",
       "    border: 1px solid black;\n",
       "    border-collapse: collapse;\n",
       "  }\n",
       "  th, td {\n",
       "    padding: 5px;\n",
       "  }\n",
       "  th {\n",
       "    text-align: left;\n",
       "  }\n",
       "</style><div class='table-result-container'><table class='table-result'><thead style='background-color: white'><tr><th>registered_yr</th><th>Number_of_cars_sold_per_registration_year</th></tr></thead><tbody><tr><td>2017</td><td>2031</td></tr><tr><td>2018</td><td>1973</td></tr><tr><td>2019</td><td>1681</td></tr><tr><td>2016</td><td>1647</td></tr><tr><td>2021</td><td>1366</td></tr><tr><td>2015</td><td>1362</td></tr><tr><td>2014</td><td>1265</td></tr><tr><td>2020</td><td>1174</td></tr><tr><td>2022</td><td>1013</td></tr><tr><td>2013</td><td>944</td></tr><tr><td>2012</td><td>764</td></tr><tr><td>2011</td><td>712</td></tr><tr><td>2010</td><td>517</td></tr><tr><td>2009</td><td>305</td></tr><tr><td>2008</td><td>173</td></tr><tr><td>2023</td><td>113</td></tr><tr><td>2007</td><td>68</td></tr><tr><td>2006</td><td>53</td></tr><tr><td>2004</td><td>31</td></tr><tr><td>2005</td><td>29</td></tr><tr><td>2003</td><td>15</td></tr><tr><td>2002</td><td>7</td></tr></tbody></table></div>"
      ]
     },
     "metadata": {
      "application/vnd.databricks.v1+output": {
       "addedWidgets": {},
       "aggData": [],
       "aggError": "",
       "aggOverflow": false,
       "aggSchema": [],
       "aggSeriesLimitReached": false,
       "aggType": "",
       "arguments": {},
       "columnCustomDisplayInfos": {},
       "data": [
        [
         2017,
         2031
        ],
        [
         2018,
         1973
        ],
        [
         2019,
         1681
        ],
        [
         2016,
         1647
        ],
        [
         2021,
         1366
        ],
        [
         2015,
         1362
        ],
        [
         2014,
         1265
        ],
        [
         2020,
         1174
        ],
        [
         2022,
         1013
        ],
        [
         2013,
         944
        ],
        [
         2012,
         764
        ],
        [
         2011,
         712
        ],
        [
         2010,
         517
        ],
        [
         2009,
         305
        ],
        [
         2008,
         173
        ],
        [
         2023,
         113
        ],
        [
         2007,
         68
        ],
        [
         2006,
         53
        ],
        [
         2004,
         31
        ],
        [
         2005,
         29
        ],
        [
         2003,
         15
        ],
        [
         2002,
         7
        ]
       ],
       "datasetInfos": [],
       "dbfsResultPath": null,
       "isJsonSchema": true,
       "metadata": {},
       "overflow": false,
       "plotOptions": {
        "customPlotOptions": {},
        "displayType": "table",
        "pivotAggregation": null,
        "pivotColumns": null,
        "xColumns": null,
        "yColumns": null
       },
       "removedWidgets": [],
       "schema": [
        {
         "metadata": "{}",
         "name": "registered_yr",
         "type": "\"integer\""
        },
        {
         "metadata": "{}",
         "name": "Number_of_cars_sold_per_registration_year",
         "type": "\"long\""
        }
       ],
       "type": "table"
      }
     },
     "output_type": "display_data"
    },
    {
     "output_type": "display_data",
     "data": {
      "text/plain": [
       "Databricks visualization. Run in Databricks to view."
      ]
     },
     "metadata": {
      "application/vnd.databricks.v1.subcommand+json": {
       "baseErrorDetails": null,
       "bindings": {},
       "collapsed": false,
       "command": "%python\n__backend_agg_display_orig = display\n__backend_agg_dfs = []\ndef __backend_agg_display_new(df):\n    __backend_agg_df_modules = [\"pandas.core.frame\", \"databricks.koalas.frame\", \"pyspark.sql.dataframe\", \"pyspark.pandas.frame\", \"pyspark.sql.connect.dataframe\"]\n    if (type(df).__module__ in __backend_agg_df_modules and type(df).__name__ == 'DataFrame') or isinstance(df, list):\n        __backend_agg_dfs.append(df)\n\ndisplay = __backend_agg_display_new\n\ndef __backend_agg_user_code_fn():\n    import base64\n    exec(base64.standard_b64decode(\"ZnJvbSBweXNwYXJrLnNxbC5mdW5jdGlvbnMgaW1wb3J0IGNvdW50LCBkZXNjCgpjYXJzX3NvbGRfcGVyX3JlZ2lzdGVyZWRfeWVhciA9ICgKICAgIGRmLnNlbGVjdCgicmVnaXN0ZXJlZF95ciIpCiAgICAuZ3JvdXBieSgicmVnaXN0ZXJlZF95ciIpCiAgICAuYWdnKGNvdW50KCJyZWdpc3RlcmVkX3lyIikuYWxpYXMoIk51bWJlcl9vZl9jYXJzX3NvbGRfcGVyX3JlZ2lzdHJhdGlvbl95ZWFyIikpCiAgICAub3JkZXJCeShkZXNjKCJOdW1iZXJfb2ZfY2Fyc19zb2xkX3Blcl9yZWdpc3RyYXRpb25feWVhciIpKQopCmRpc3BsYXkoY2Fyc19zb2xkX3Blcl9yZWdpc3RlcmVkX3llYXIp\").decode())\n\ntry:\n    # run user code\n    __backend_agg_user_code_fn()\n\n    #reset display function\n    display = __backend_agg_display_orig\n\n    if len(__backend_agg_dfs) > 0:\n        # create a temp view\n        if type(__backend_agg_dfs[0]).__module__ == \"databricks.koalas.frame\":\n            # koalas dataframe\n            __backend_agg_dfs[0].to_spark().createOrReplaceTempView(\"DatabricksVieweb3b6b9\")\n        elif type(__backend_agg_dfs[0]).__module__ == \"pandas.core.frame\" or isinstance(__backend_agg_dfs[0], list):\n            # pandas dataframe\n            spark.createDataFrame(__backend_agg_dfs[0]).createOrReplaceTempView(\"DatabricksVieweb3b6b9\")\n        else:\n            __backend_agg_dfs[0].createOrReplaceTempView(\"DatabricksVieweb3b6b9\")\n        #run backend agg\n        display(spark.sql(\"\"\"WITH q AS (select * from DatabricksVieweb3b6b9) SELECT `registered_yr`,`Number_of_cars_sold_per_registration_year` FROM q\"\"\"))\n    else:\n        displayHTML(\"dataframe no longer exists. If you're using dataframe.display(), use display(dataframe) instead.\")\n\n\nfinally:\n    spark.sql(\"drop view if exists DatabricksVieweb3b6b9\")\n    display = __backend_agg_display_orig\n    del __backend_agg_display_new\n    del __backend_agg_display_orig\n    del __backend_agg_dfs\n    del __backend_agg_user_code_fn\n\n",
       "commandTitle": "Visualization 1",
       "commandType": "auto",
       "commandVersion": 0,
       "commentThread": [],
       "commentsVisible": false,
       "contentSha256Hex": null,
       "customPlotOptions": {
        "redashChart": [
         {
          "key": "type",
          "value": "CHART"
         },
         {
          "key": "options",
          "value": {
           "alignYAxesAtZero": true,
           "coefficient": 1.5,
           "columnConfigurationMap": {
            "x": {
             "column": "registered_yr",
             "id": "column_1af879157"
            },
            "y": [
             {
              "column": "Number_of_cars_sold_per_registration_year",
              "id": "column_1af879158"
             }
            ]
           },
           "dateTimeFormat": "DD/MM/YYYY HH:mm",
           "direction": {
            "type": "counterclockwise"
           },
           "error_y": {
            "type": "data",
            "visible": true
           },
           "globalSeriesType": "bubble",
           "legend": {
            "traceorder": "normal"
           },
           "missingValuesAsZero": true,
           "numberFormat": "0,0.[00000]",
           "percentFormat": "0[.]00%",
           "series": {
            "error_y": {
             "type": "data",
             "visible": true
            },
            "stacking": null
           },
           "seriesOptions": {
            "Number_of_cars_sold_per_registration_year": {
             "color": "#1B5280",
             "type": "bubble",
             "yAxis": 0
            }
           },
           "showDataLabels": false,
           "sizemode": "diameter",
           "sortX": true,
           "sortY": true,
           "swappedAxes": false,
           "textFormat": "",
           "useAggregationsUi": true,
           "valuesOptions": {},
           "version": 2,
           "xAxis": {
            "labels": {
             "enabled": true
            },
            "title": {
             "text": "Car Registration Year"
            },
            "type": "-"
           },
           "yAxis": [
            {
             "title": {
              "text": "Number of Cars Sold"
             },
             "type": "-"
            },
            {
             "opposite": true,
             "type": "-"
            }
           ]
          }
         }
        ]
       },
       "datasetPreviewNameToCmdIdMap": {},
       "diffDeletes": [],
       "diffInserts": [],
       "displayType": "redashChart",
       "error": null,
       "errorDetails": null,
       "errorSummary": null,
       "errorTraceType": null,
       "finishTime": 0,
       "globalVars": {},
       "guid": "",
       "height": "auto",
       "hideCommandCode": false,
       "hideCommandResult": false,
       "iPythonMetadata": null,
       "inputWidgets": {},
       "isLockedInExamMode": false,
       "latestUser": "a user",
       "latestUserId": null,
       "listResultMetadata": null,
       "metadata": {
        "byteLimit": 2048000,
        "rowLimit": 10000
       },
       "nuid": "e65c5729-91a3-49de-96d8-c2442c0543b9",
       "origId": 0,
       "parentHierarchy": [],
       "pivotAggregation": null,
       "pivotColumns": null,
       "position": 47.75,
       "resultDbfsErrorMessage": null,
       "resultDbfsStatus": "INLINED_IN_TREE",
       "results": null,
       "showCommandTitle": false,
       "startTime": 0,
       "state": "input",
       "streamStates": {},
       "subcommandOptions": {
        "queryPlan": {
         "selects": [
          {
           "column": "registered_yr",
           "type": "column"
          },
          {
           "column": "Number_of_cars_sold_per_registration_year",
           "type": "column"
          }
         ]
        }
       },
       "submitTime": 0,
       "subtype": "tableResultSubCmd.visualization",
       "tableResultIndex": 0,
       "useConsistentColors": false,
       "version": "CommandV1",
       "width": "auto",
       "workflows": [],
       "xColumns": null,
       "yColumns": null
      }
     },
     "output_type": "display_data"
    }
   ],
   "source": [
    "from pyspark.sql.functions import count, desc\n",
    "\n",
    "cars_sold_per_registered_year = (\n",
    "    df.select(\"registered_yr\")\n",
    "    .groupby(\"registered_yr\")\n",
    "    .agg(count(\"registered_yr\").alias(\"Number_of_cars_sold_per_registration_year\"))\n",
    "    .orderBy(desc(\"Number_of_cars_sold_per_registration_year\"))\n",
    ")\n",
    "display(cars_sold_per_registered_year)"
   ]
  },
  {
   "cell_type": "code",
   "execution_count": 0,
   "metadata": {
    "application/vnd.databricks.v1+cell": {
     "cellMetadata": {
      "byteLimit": 2048000,
      "rowLimit": 10000
     },
     "inputWidgets": {},
     "nuid": "816a11dc-4d51-4b73-9c10-9bcd55d6b183",
     "showTitle": true,
     "title": "Car Resale Trend Based on Ownership Type in India."
    }
   },
   "outputs": [
    {
     "output_type": "display_data",
     "data": {
      "text/html": [
       "<style scoped>\n",
       "  .table-result-container {\n",
       "    max-height: 300px;\n",
       "    overflow: auto;\n",
       "  }\n",
       "  table, th, td {\n",
       "    border: 1px solid black;\n",
       "    border-collapse: collapse;\n",
       "  }\n",
       "  th, td {\n",
       "    padding: 5px;\n",
       "  }\n",
       "  th {\n",
       "    text-align: left;\n",
       "  }\n",
       "</style><div class='table-result-container'><table class='table-result'><thead style='background-color: white'><tr><th>owner_type</th><th>Total_cars_sold_per_ownership_type</th></tr></thead><tbody><tr><td>First Owner</td><td>12177</td></tr><tr><td>Second Owner</td><td>4087</td></tr><tr><td>Third Owner</td><td>806</td></tr><tr><td>Fourth Owner</td><td>124</td></tr><tr><td>Fifth Owner</td><td>49</td></tr></tbody></table></div>"
      ]
     },
     "metadata": {
      "application/vnd.databricks.v1+output": {
       "addedWidgets": {},
       "aggData": [],
       "aggError": "",
       "aggOverflow": false,
       "aggSchema": [],
       "aggSeriesLimitReached": false,
       "aggType": "",
       "arguments": {},
       "columnCustomDisplayInfos": {},
       "data": [
        [
         "First Owner",
         12177
        ],
        [
         "Second Owner",
         4087
        ],
        [
         "Third Owner",
         806
        ],
        [
         "Fourth Owner",
         124
        ],
        [
         "Fifth Owner",
         49
        ]
       ],
       "datasetInfos": [],
       "dbfsResultPath": null,
       "isJsonSchema": true,
       "metadata": {},
       "overflow": false,
       "plotOptions": {
        "customPlotOptions": {},
        "displayType": "table",
        "pivotAggregation": null,
        "pivotColumns": null,
        "xColumns": null,
        "yColumns": null
       },
       "removedWidgets": [],
       "schema": [
        {
         "metadata": "{}",
         "name": "owner_type",
         "type": "\"string\""
        },
        {
         "metadata": "{}",
         "name": "Total_cars_sold_per_ownership_type",
         "type": "\"long\""
        }
       ],
       "type": "table"
      }
     },
     "output_type": "display_data"
    },
    {
     "output_type": "display_data",
     "data": {
      "text/plain": [
       "Databricks visualization. Run in Databricks to view."
      ]
     },
     "metadata": {
      "application/vnd.databricks.v1.subcommand+json": {
       "baseErrorDetails": null,
       "bindings": {},
       "collapsed": false,
       "command": "%python\n__backend_agg_display_orig = display\n__backend_agg_dfs = []\ndef __backend_agg_display_new(df):\n    __backend_agg_df_modules = [\"pandas.core.frame\", \"databricks.koalas.frame\", \"pyspark.sql.dataframe\", \"pyspark.pandas.frame\", \"pyspark.sql.connect.dataframe\"]\n    if (type(df).__module__ in __backend_agg_df_modules and type(df).__name__ == 'DataFrame') or isinstance(df, list):\n        __backend_agg_dfs.append(df)\n\ndisplay = __backend_agg_display_new\n\ndef __backend_agg_user_code_fn():\n    import base64\n    exec(base64.standard_b64decode(\"ZnJvbSBweXNwYXJrLnNxbC5mdW5jdGlvbnMgaW1wb3J0IGNvdW50LCBkZXNjCgpjYXJzX3NvbGRfcGVyX293bmVyX3R5cGUgPSAoIGRmLnNlbGVjdCgib3duZXJfdHlwZSIpCiAgICAuZ3JvdXBieSgib3duZXJfdHlwZSIpCiAgICAuYWdnKGNvdW50KCJvd25lcl90eXBlIikuYWxpYXMoIlRvdGFsX2NhcnNfc29sZF9wZXJfb3duZXJzaGlwX3R5cGUiKSkKICAgIC5vcmRlckJ5KGRlc2MoIlRvdGFsX2NhcnNfc29sZF9wZXJfb3duZXJzaGlwX3R5cGUiKSkKKQoKZGlzcGxheShjYXJzX3NvbGRfcGVyX293bmVyX3R5cGUp\").decode())\n\ntry:\n    # run user code\n    __backend_agg_user_code_fn()\n\n    #reset display function\n    display = __backend_agg_display_orig\n\n    if len(__backend_agg_dfs) > 0:\n        # create a temp view\n        if type(__backend_agg_dfs[0]).__module__ == \"databricks.koalas.frame\":\n            # koalas dataframe\n            __backend_agg_dfs[0].to_spark().createOrReplaceTempView(\"DatabricksViewa8f15a2\")\n        elif type(__backend_agg_dfs[0]).__module__ == \"pandas.core.frame\" or isinstance(__backend_agg_dfs[0], list):\n            # pandas dataframe\n            spark.createDataFrame(__backend_agg_dfs[0]).createOrReplaceTempView(\"DatabricksViewa8f15a2\")\n        else:\n            __backend_agg_dfs[0].createOrReplaceTempView(\"DatabricksViewa8f15a2\")\n        #run backend agg\n        display(spark.sql(\"\"\"WITH q AS (select * from DatabricksViewa8f15a2) SELECT `owner_type`,SUM(`Total_cars_sold_per_ownership_type`) `column_b63714d82` FROM q GROUP BY `owner_type`\"\"\"))\n    else:\n        displayHTML(\"dataframe no longer exists. If you're using dataframe.display(), use display(dataframe) instead.\")\n\n\nfinally:\n    spark.sql(\"drop view if exists DatabricksViewa8f15a2\")\n    display = __backend_agg_display_orig\n    del __backend_agg_display_new\n    del __backend_agg_display_orig\n    del __backend_agg_dfs\n    del __backend_agg_user_code_fn\n\n",
       "commandTitle": "Visualization 1",
       "commandType": "auto",
       "commandVersion": 0,
       "commentThread": [],
       "commentsVisible": false,
       "contentSha256Hex": null,
       "customPlotOptions": {
        "redashChart": [
         {
          "key": "type",
          "value": "CHART"
         },
         {
          "key": "options",
          "value": {
           "alignYAxesAtZero": true,
           "coefficient": 1,
           "columnConfigurationMap": {
            "x": {
             "column": "owner_type",
             "id": "column_b63714d81"
            },
            "y": [
             {
              "column": "Total_cars_sold_per_ownership_type",
              "id": "column_b63714d82",
              "transform": "SUM"
             }
            ]
           },
           "dateTimeFormat": "DD/MM/YYYY HH:mm",
           "direction": {
            "type": "counterclockwise"
           },
           "error_y": {
            "type": "data",
            "visible": true
           },
           "globalSeriesType": "pie",
           "isAggregationOn": true,
           "legend": {
            "traceorder": "normal"
           },
           "missingValuesAsZero": true,
           "numberFormat": "0,0.[00000]",
           "percentFormat": "0[.]00%",
           "series": {
            "error_y": {
             "type": "data",
             "visible": true
            },
            "stacking": null
           },
           "seriesOptions": {
            "Total_cars_sold_per_ownership_type": {
             "color": "#799CFF",
             "name": "Total_cars_sold_per_ownership_type",
             "type": "pie",
             "yAxis": 0
            },
            "column_b63714d82": {
             "color": "#799CFF",
             "name": " ",
             "type": "pie",
             "yAxis": 0
            }
           },
           "showDataLabels": true,
           "sizemode": "diameter",
           "sortX": true,
           "sortY": true,
           "swappedAxes": false,
           "textFormat": "",
           "useAggregationsUi": true,
           "valuesOptions": {
            "Fifth Owner": {
             "color": "#C7FDFF"
            },
            "First Owner": {
             "color": "#1B5280"
            },
            "Fourth Owner": {
             "color": "#93D1DF"
            },
            "Second Owner": {
             "color": "#3B7BA1"
            },
            "Third Owner": {
             "color": "#64A6C0"
            }
           },
           "version": 2,
           "xAxis": {
            "labels": {
             "enabled": true
            },
            "type": "-"
           },
           "yAxis": [
            {
             "type": "-"
            },
            {
             "opposite": true,
             "type": "-"
            }
           ]
          }
         }
        ]
       },
       "datasetPreviewNameToCmdIdMap": {},
       "diffDeletes": [],
       "diffInserts": [],
       "displayType": "redashChart",
       "error": null,
       "errorDetails": null,
       "errorSummary": null,
       "errorTraceType": null,
       "finishTime": 0,
       "globalVars": {},
       "guid": "",
       "height": "auto",
       "hideCommandCode": false,
       "hideCommandResult": false,
       "iPythonMetadata": null,
       "inputWidgets": {},
       "isLockedInExamMode": false,
       "latestUser": "a user",
       "latestUserId": null,
       "listResultMetadata": null,
       "metadata": {
        "byteLimit": 2048000,
        "rowLimit": 10000
       },
       "nuid": "f81704c7-984f-4e21-8d61-ca7295bfddd3",
       "origId": 0,
       "parentHierarchy": [],
       "pivotAggregation": null,
       "pivotColumns": null,
       "position": 49.0,
       "resultDbfsErrorMessage": null,
       "resultDbfsStatus": "INLINED_IN_TREE",
       "results": null,
       "showCommandTitle": false,
       "startTime": 0,
       "state": "input",
       "streamStates": {},
       "subcommandOptions": {
        "queryPlan": {
         "groups": [
          {
           "column": "owner_type",
           "type": "column"
          }
         ],
         "selects": [
          {
           "column": "owner_type",
           "type": "column"
          },
          {
           "alias": "column_b63714d82",
           "args": [
            {
             "column": "Total_cars_sold_per_ownership_type",
             "type": "column"
            }
           ],
           "function": "SUM",
           "type": "function"
          }
         ]
        }
       },
       "submitTime": 0,
       "subtype": "tableResultSubCmd.visualization",
       "tableResultIndex": 0,
       "useConsistentColors": false,
       "version": "CommandV1",
       "width": "auto",
       "workflows": [],
       "xColumns": null,
       "yColumns": null
      }
     },
     "output_type": "display_data"
    }
   ],
   "source": [
    "from pyspark.sql.functions import count, desc\n",
    "\n",
    "cars_sold_per_owner_type = ( df.select(\"owner_type\")\n",
    "    .groupby(\"owner_type\")\n",
    "    .agg(count(\"owner_type\").alias(\"Total_cars_sold_per_ownership_type\"))\n",
    "    .orderBy(desc(\"Total_cars_sold_per_ownership_type\"))\n",
    ")\n",
    "\n",
    "display(cars_sold_per_owner_type)"
   ]
  },
  {
   "cell_type": "code",
   "execution_count": 0,
   "metadata": {
    "application/vnd.databricks.v1+cell": {
     "cellMetadata": {
      "byteLimit": 2048000,
      "rowLimit": 10000
     },
     "inputWidgets": {},
     "nuid": "b20f1553-e49a-4b30-87d5-a4207832fad7",
     "showTitle": true,
     "title": " Analyze Insurance Type Preferences for Used Car Purchases."
    }
   },
   "outputs": [
    {
     "output_type": "display_data",
     "data": {
      "text/html": [
       "<style scoped>\n",
       "  .table-result-container {\n",
       "    max-height: 300px;\n",
       "    overflow: auto;\n",
       "  }\n",
       "  table, th, td {\n",
       "    border: 1px solid black;\n",
       "    border-collapse: collapse;\n",
       "  }\n",
       "  th, td {\n",
       "    padding: 5px;\n",
       "  }\n",
       "  th {\n",
       "    text-align: left;\n",
       "  }\n",
       "</style><div class='table-result-container'><table class='table-result'><thead style='background-color: white'><tr><th>insurance</th><th>Total_cars_sold_per_insurance_type</th></tr></thead><tbody><tr><td>Third Party insurance</td><td>7367</td></tr><tr><td>Comprehensive</td><td>6404</td></tr><tr><td>Third Party</td><td>1980</td></tr><tr><td>Zero Dep</td><td>834</td></tr><tr><td>Without Insuarance</td><td>650</td></tr><tr><td>First Party Insuarance</td><td>5</td></tr><tr><td>Second Party Insuarance</td><td>3</td></tr></tbody></table></div>"
      ]
     },
     "metadata": {
      "application/vnd.databricks.v1+output": {
       "addedWidgets": {},
       "aggData": [],
       "aggError": "",
       "aggOverflow": false,
       "aggSchema": [],
       "aggSeriesLimitReached": false,
       "aggType": "",
       "arguments": {},
       "columnCustomDisplayInfos": {},
       "data": [
        [
         "Third Party insurance",
         7367
        ],
        [
         "Comprehensive",
         6404
        ],
        [
         "Third Party",
         1980
        ],
        [
         "Zero Dep",
         834
        ],
        [
         "Without Insuarance",
         650
        ],
        [
         "First Party Insuarance",
         5
        ],
        [
         "Second Party Insuarance",
         3
        ]
       ],
       "datasetInfos": [],
       "dbfsResultPath": null,
       "isJsonSchema": true,
       "metadata": {},
       "overflow": false,
       "plotOptions": {
        "customPlotOptions": {},
        "displayType": "table",
        "pivotAggregation": null,
        "pivotColumns": null,
        "xColumns": null,
        "yColumns": null
       },
       "removedWidgets": [],
       "schema": [
        {
         "metadata": "{}",
         "name": "insurance",
         "type": "\"string\""
        },
        {
         "metadata": "{}",
         "name": "Total_cars_sold_per_insurance_type",
         "type": "\"long\""
        }
       ],
       "type": "table"
      }
     },
     "output_type": "display_data"
    },
    {
     "output_type": "display_data",
     "data": {
      "text/plain": [
       "Databricks visualization. Run in Databricks to view."
      ]
     },
     "metadata": {
      "application/vnd.databricks.v1.subcommand+json": {
       "baseErrorDetails": null,
       "bindings": {},
       "collapsed": false,
       "command": "%python\n__backend_agg_display_orig = display\n__backend_agg_dfs = []\ndef __backend_agg_display_new(df):\n    __backend_agg_df_modules = [\"pandas.core.frame\", \"databricks.koalas.frame\", \"pyspark.sql.dataframe\", \"pyspark.pandas.frame\", \"pyspark.sql.connect.dataframe\"]\n    if (type(df).__module__ in __backend_agg_df_modules and type(df).__name__ == 'DataFrame') or isinstance(df, list):\n        __backend_agg_dfs.append(df)\n\ndisplay = __backend_agg_display_new\n\ndef __backend_agg_user_code_fn():\n    import base64\n    exec(base64.standard_b64decode(\"ZnJvbSBweXNwYXJrLnNxbC5mdW5jdGlvbnMgaW1wb3J0IGNvdW50LCBkZXNjCgpjYXJzX3NvbGRfcGVyX2luc3VyYW5jZV90eXBlID0gKGRmLnNlbGVjdCgiaW5zdXJhbmNlIikKICAgIC5ncm91cGJ5KCJpbnN1cmFuY2UiKQogICAgLmFnZyhjb3VudCgiaW5zdXJhbmNlIikuYWxpYXMoIlRvdGFsX2NhcnNfc29sZF9wZXJfaW5zdXJhbmNlX3R5cGUiKSkKICAgIC5vcmRlckJ5KGRlc2MoIlRvdGFsX2NhcnNfc29sZF9wZXJfaW5zdXJhbmNlX3R5cGUiKSkKKQoKZGlzcGxheShjYXJzX3NvbGRfcGVyX2luc3VyYW5jZV90eXBlKQ==\").decode())\n\ntry:\n    # run user code\n    __backend_agg_user_code_fn()\n\n    #reset display function\n    display = __backend_agg_display_orig\n\n    if len(__backend_agg_dfs) > 0:\n        # create a temp view\n        if type(__backend_agg_dfs[0]).__module__ == \"databricks.koalas.frame\":\n            # koalas dataframe\n            __backend_agg_dfs[0].to_spark().createOrReplaceTempView(\"DatabricksViewdb7f902\")\n        elif type(__backend_agg_dfs[0]).__module__ == \"pandas.core.frame\" or isinstance(__backend_agg_dfs[0], list):\n            # pandas dataframe\n            spark.createDataFrame(__backend_agg_dfs[0]).createOrReplaceTempView(\"DatabricksViewdb7f902\")\n        else:\n            __backend_agg_dfs[0].createOrReplaceTempView(\"DatabricksViewdb7f902\")\n        #run backend agg\n        display(spark.sql(\"\"\"WITH q AS (select * from DatabricksViewdb7f902) SELECT `insurance`,SUM(`Total_cars_sold_per_insurance_type`) `column_b63714d85` FROM q GROUP BY `insurance`\"\"\"))\n    else:\n        displayHTML(\"dataframe no longer exists. If you're using dataframe.display(), use display(dataframe) instead.\")\n\n\nfinally:\n    spark.sql(\"drop view if exists DatabricksViewdb7f902\")\n    display = __backend_agg_display_orig\n    del __backend_agg_display_new\n    del __backend_agg_display_orig\n    del __backend_agg_dfs\n    del __backend_agg_user_code_fn\n\n",
       "commandTitle": "Visualization 1",
       "commandType": "auto",
       "commandVersion": 0,
       "commentThread": [],
       "commentsVisible": false,
       "contentSha256Hex": null,
       "customPlotOptions": {
        "redashChart": [
         {
          "key": "type",
          "value": "CHART"
         },
         {
          "key": "options",
          "value": {
           "alignYAxesAtZero": true,
           "coefficient": 1,
           "columnConfigurationMap": {
            "x": {
             "column": "insurance",
             "id": "column_b63714d84"
            },
            "y": [
             {
              "column": "Total_cars_sold_per_insurance_type",
              "id": "column_b63714d85",
              "transform": "SUM"
             }
            ]
           },
           "dateTimeFormat": "DD/MM/YYYY HH:mm",
           "direction": {
            "type": "counterclockwise"
           },
           "error_y": {
            "type": "data",
            "visible": true
           },
           "globalSeriesType": "column",
           "isAggregationOn": true,
           "legend": {
            "traceorder": "normal"
           },
           "missingValuesAsZero": true,
           "numberFormat": "0,0.[00000]",
           "percentFormat": "0[.]00%",
           "series": {
            "error_y": {
             "type": "data",
             "visible": true
            },
            "stacking": null
           },
           "seriesOptions": {
            "column_b63714d85": {
             "color": "#74A5BD",
             "name": "Total_cars_sold_per_insurance_type",
             "yAxis": 0
            }
           },
           "showDataLabels": true,
           "sizemode": "diameter",
           "sortX": true,
           "sortY": true,
           "swappedAxes": true,
           "textFormat": "",
           "useAggregationsUi": true,
           "valuesOptions": {},
           "version": 2,
           "xAxis": {
            "labels": {
             "enabled": true
            },
            "title": {
             "text": "Insurance Type"
            },
            "type": "-"
           },
           "yAxis": [
            {
             "title": {
              "text": "Number of Cars Sold"
             },
             "type": "-"
            },
            {
             "opposite": true,
             "type": "-"
            }
           ]
          }
         }
        ]
       },
       "datasetPreviewNameToCmdIdMap": {},
       "diffDeletes": [],
       "diffInserts": [],
       "displayType": "redashChart",
       "error": null,
       "errorDetails": null,
       "errorSummary": null,
       "errorTraceType": null,
       "finishTime": 0,
       "globalVars": {},
       "guid": "",
       "height": "auto",
       "hideCommandCode": false,
       "hideCommandResult": false,
       "iPythonMetadata": null,
       "inputWidgets": {},
       "isLockedInExamMode": false,
       "latestUser": "a user",
       "latestUserId": null,
       "listResultMetadata": null,
       "metadata": {
        "byteLimit": 2048000,
        "rowLimit": 10000
       },
       "nuid": "dfce75d6-5e6e-4c01-b6b2-5ecffa77a70b",
       "origId": 0,
       "parentHierarchy": [],
       "pivotAggregation": null,
       "pivotColumns": null,
       "position": 50.0,
       "resultDbfsErrorMessage": null,
       "resultDbfsStatus": "INLINED_IN_TREE",
       "results": null,
       "showCommandTitle": false,
       "startTime": 0,
       "state": "input",
       "streamStates": {},
       "subcommandOptions": {
        "queryPlan": {
         "groups": [
          {
           "column": "insurance",
           "type": "column"
          }
         ],
         "selects": [
          {
           "column": "insurance",
           "type": "column"
          },
          {
           "alias": "column_b63714d85",
           "args": [
            {
             "column": "Total_cars_sold_per_insurance_type",
             "type": "column"
            }
           ],
           "function": "SUM",
           "type": "function"
          }
         ]
        }
       },
       "submitTime": 0,
       "subtype": "tableResultSubCmd.visualization",
       "tableResultIndex": 0,
       "useConsistentColors": false,
       "version": "CommandV1",
       "width": "auto",
       "workflows": [],
       "xColumns": null,
       "yColumns": null
      }
     },
     "output_type": "display_data"
    }
   ],
   "source": [
    "from pyspark.sql.functions import count, desc\n",
    "\n",
    "cars_sold_per_insurance_type = (df.select(\"insurance\")\n",
    "    .groupby(\"insurance\")\n",
    "    .agg(count(\"insurance\").alias(\"Total_cars_sold_per_insurance_type\"))\n",
    "    .orderBy(desc(\"Total_cars_sold_per_insurance_type\"))\n",
    ")\n",
    "\n",
    "display(cars_sold_per_insurance_type)"
   ]
  },
  {
   "cell_type": "code",
   "execution_count": 0,
   "metadata": {
    "application/vnd.databricks.v1+cell": {
     "cellMetadata": {
      "byteLimit": 2048000,
      "rowLimit": 10000
     },
     "inputWidgets": {},
     "nuid": "1546b0fa-d726-4835-afb1-61ab128f32d3",
     "showTitle": true,
     "title": " Analysis of Car Resale Distribution Across Cities."
    }
   },
   "outputs": [
    {
     "output_type": "display_data",
     "data": {
      "text/html": [
       "<style scoped>\n",
       "  .table-result-container {\n",
       "    max-height: 300px;\n",
       "    overflow: auto;\n",
       "  }\n",
       "  table, th, td {\n",
       "    border: 1px solid black;\n",
       "    border-collapse: collapse;\n",
       "  }\n",
       "  th, td {\n",
       "    padding: 5px;\n",
       "  }\n",
       "  th {\n",
       "    text-align: left;\n",
       "  }\n",
       "</style><div class='table-result-container'><table class='table-result'><thead style='background-color: white'><tr><th>city</th><th>count(city)</th></tr></thead><tbody><tr><td>Delhi</td><td>2996</td></tr><tr><td>Bangalore</td><td>2322</td></tr><tr><td>Mumbai</td><td>2082</td></tr><tr><td>Hyderabad</td><td>1552</td></tr><tr><td>Pune</td><td>1384</td></tr><tr><td>Chennai</td><td>1339</td></tr><tr><td>Ahmedabad</td><td>1315</td></tr><tr><td>Kolkata</td><td>1166</td></tr><tr><td>Gurgaon</td><td>1034</td></tr><tr><td>Jaipur</td><td>882</td></tr><tr><td>Lucknow</td><td>545</td></tr><tr><td>Chandigarh</td><td>434</td></tr><tr><td>Agra</td><td>192</td></tr></tbody></table></div>"
      ]
     },
     "metadata": {
      "application/vnd.databricks.v1+output": {
       "addedWidgets": {},
       "aggData": [],
       "aggError": "",
       "aggOverflow": false,
       "aggSchema": [],
       "aggSeriesLimitReached": false,
       "aggType": "",
       "arguments": {},
       "columnCustomDisplayInfos": {},
       "data": [
        [
         "Delhi",
         2996
        ],
        [
         "Bangalore",
         2322
        ],
        [
         "Mumbai",
         2082
        ],
        [
         "Hyderabad",
         1552
        ],
        [
         "Pune",
         1384
        ],
        [
         "Chennai",
         1339
        ],
        [
         "Ahmedabad",
         1315
        ],
        [
         "Kolkata",
         1166
        ],
        [
         "Gurgaon",
         1034
        ],
        [
         "Jaipur",
         882
        ],
        [
         "Lucknow",
         545
        ],
        [
         "Chandigarh",
         434
        ],
        [
         "Agra",
         192
        ]
       ],
       "datasetInfos": [],
       "dbfsResultPath": null,
       "isJsonSchema": true,
       "metadata": {},
       "overflow": false,
       "plotOptions": {
        "customPlotOptions": {},
        "displayType": "table",
        "pivotAggregation": null,
        "pivotColumns": null,
        "xColumns": null,
        "yColumns": null
       },
       "removedWidgets": [],
       "schema": [
        {
         "metadata": "{}",
         "name": "city",
         "type": "\"string\""
        },
        {
         "metadata": "{}",
         "name": "count(city)",
         "type": "\"long\""
        }
       ],
       "type": "table"
      }
     },
     "output_type": "display_data"
    },
    {
     "output_type": "display_data",
     "data": {
      "text/plain": [
       "Databricks visualization. Run in Databricks to view."
      ]
     },
     "metadata": {
      "application/vnd.databricks.v1.subcommand+json": {
       "baseErrorDetails": null,
       "bindings": {},
       "collapsed": false,
       "command": "%python\n__backend_agg_display_orig = display\n__backend_agg_dfs = []\ndef __backend_agg_display_new(df):\n    __backend_agg_df_modules = [\"pandas.core.frame\", \"databricks.koalas.frame\", \"pyspark.sql.dataframe\", \"pyspark.pandas.frame\", \"pyspark.sql.connect.dataframe\"]\n    if (type(df).__module__ in __backend_agg_df_modules and type(df).__name__ == 'DataFrame') or isinstance(df, list):\n        __backend_agg_dfs.append(df)\n\ndisplay = __backend_agg_display_new\n\ndef __backend_agg_user_code_fn():\n    import base64\n    exec(base64.standard_b64decode(\"Y2Fyc19zb2xkX3Blcl9jaXR5ID0gKGRmLnNlbGVjdCgiY2l0eSIpCiAgICAuZ3JvdXBieSgiY2l0eSIpCiAgICAuYWdnKGNvdW50KCJjaXR5IikpCiAgICAuYWxpYXMoImNvdW50KGNpdHkpIikKICAgIC5vcmRlckJ5KGRlc2MoImNvdW50KGNpdHkpIikpCikKZGlzcGxheShjYXJzX3NvbGRfcGVyX2NpdHkp\").decode())\n\ntry:\n    # run user code\n    __backend_agg_user_code_fn()\n\n    #reset display function\n    display = __backend_agg_display_orig\n\n    if len(__backend_agg_dfs) > 0:\n        # create a temp view\n        if type(__backend_agg_dfs[0]).__module__ == \"databricks.koalas.frame\":\n            # koalas dataframe\n            __backend_agg_dfs[0].to_spark().createOrReplaceTempView(\"DatabricksViewb0a15f0\")\n        elif type(__backend_agg_dfs[0]).__module__ == \"pandas.core.frame\" or isinstance(__backend_agg_dfs[0], list):\n            # pandas dataframe\n            spark.createDataFrame(__backend_agg_dfs[0]).createOrReplaceTempView(\"DatabricksViewb0a15f0\")\n        else:\n            __backend_agg_dfs[0].createOrReplaceTempView(\"DatabricksViewb0a15f0\")\n        #run backend agg\n        display(spark.sql(\"\"\"WITH q AS (select * from DatabricksViewb0a15f0) SELECT `city`,SUM(`count(city)`) `column_5bde662d30` FROM q GROUP BY `city`\"\"\"))\n    else:\n        displayHTML(\"dataframe no longer exists. If you're using dataframe.display(), use display(dataframe) instead.\")\n\n\nfinally:\n    spark.sql(\"drop view if exists DatabricksViewb0a15f0\")\n    display = __backend_agg_display_orig\n    del __backend_agg_display_new\n    del __backend_agg_display_orig\n    del __backend_agg_dfs\n    del __backend_agg_user_code_fn\n\n",
       "commandTitle": "Visualization 1",
       "commandType": "auto",
       "commandVersion": 0,
       "commentThread": [],
       "commentsVisible": false,
       "contentSha256Hex": null,
       "customPlotOptions": {
        "redashChart": [
         {
          "key": "type",
          "value": "CHART"
         },
         {
          "key": "options",
          "value": {
           "alignYAxesAtZero": true,
           "coefficient": 1,
           "columnConfigurationMap": {
            "x": {
             "column": "city",
             "id": "column_5bde662d29"
            },
            "y": [
             {
              "column": "count(city)",
              "id": "column_5bde662d30",
              "transform": "SUM"
             }
            ]
           },
           "dateTimeFormat": "DD/MM/YYYY HH:mm",
           "direction": {
            "type": "counterclockwise"
           },
           "error_y": {
            "type": "data",
            "visible": true
           },
           "globalSeriesType": "line",
           "isAggregationOn": true,
           "legend": {
            "traceorder": "normal"
           },
           "missingValuesAsZero": true,
           "numberFormat": "0,0.[00000]",
           "percentFormat": "0[.]00%",
           "series": {
            "error_y": {
             "type": "data",
             "visible": true
            },
            "stacking": null
           },
           "seriesOptions": {
            "column_5bde662d30": {
             "color": "#3B7BA1",
             "name": "count(city)",
             "type": "line",
             "yAxis": 0
            },
            "count(city)": {
             "name": "count(city)",
             "type": "line",
             "yAxis": 0
            }
           },
           "showDataLabels": true,
           "sizemode": "diameter",
           "sortX": true,
           "sortY": true,
           "swappedAxes": false,
           "textFormat": "",
           "useAggregationsUi": true,
           "valuesOptions": {},
           "version": 2,
           "xAxis": {
            "labels": {
             "enabled": true
            },
            "title": {
             "text": "City"
            },
            "type": "-"
           },
           "yAxis": [
            {
             "title": {
              "text": "Number of Cars Sold"
             },
             "type": "-"
            },
            {
             "opposite": true,
             "type": "-"
            }
           ]
          }
         }
        ]
       },
       "datasetPreviewNameToCmdIdMap": {},
       "diffDeletes": [],
       "diffInserts": [],
       "displayType": "redashChart",
       "error": null,
       "errorDetails": null,
       "errorSummary": null,
       "errorTraceType": null,
       "finishTime": 0,
       "globalVars": {},
       "guid": "",
       "height": "auto",
       "hideCommandCode": false,
       "hideCommandResult": false,
       "iPythonMetadata": null,
       "inputWidgets": {},
       "isLockedInExamMode": false,
       "latestUser": "a user",
       "latestUserId": null,
       "listResultMetadata": null,
       "metadata": {
        "byteLimit": 2048000,
        "rowLimit": 10000
       },
       "nuid": "fa98f9cf-a8df-4507-ad72-4008f460fbf6",
       "origId": 0,
       "parentHierarchy": [],
       "pivotAggregation": null,
       "pivotColumns": null,
       "position": 51.0,
       "resultDbfsErrorMessage": null,
       "resultDbfsStatus": "INLINED_IN_TREE",
       "results": null,
       "showCommandTitle": false,
       "startTime": 0,
       "state": "input",
       "streamStates": {},
       "subcommandOptions": {
        "queryPlan": {
         "groups": [
          {
           "column": "city",
           "type": "column"
          }
         ],
         "selects": [
          {
           "column": "city",
           "type": "column"
          },
          {
           "alias": "column_5bde662d30",
           "args": [
            {
             "column": "count(city)",
             "type": "column"
            }
           ],
           "function": "SUM",
           "type": "function"
          }
         ]
        }
       },
       "submitTime": 0,
       "subtype": "tableResultSubCmd.visualization",
       "tableResultIndex": 0,
       "useConsistentColors": false,
       "version": "CommandV1",
       "width": "auto",
       "workflows": [],
       "xColumns": null,
       "yColumns": null
      }
     },
     "output_type": "display_data"
    }
   ],
   "source": [
    "cars_sold_per_city = (df.select(\"city\")\n",
    "    .groupby(\"city\")\n",
    "    .agg(count(\"city\"))\n",
    "    .alias(\"count(city)\")\n",
    "    .orderBy(desc(\"count(city)\"))\n",
    ")\n",
    "display(cars_sold_per_city)"
   ]
  },
  {
   "cell_type": "markdown",
   "metadata": {
    "application/vnd.databricks.v1+cell": {
     "cellMetadata": {
      "byteLimit": 2048000,
      "rowLimit": 10000
     },
     "inputWidgets": {},
     "nuid": "e1fb9790-e21c-49cc-b5bc-169872526c45",
     "showTitle": false,
     "title": ""
    }
   },
   "source": [
    "Understand Correlations between columns.\n",
    "\n",
    "- registered_yr & resale_price_in_Lakh_Rupees = 0.33 = weak positive correlation\n",
    "- kms_driven & resale_price_in_Lakh_Rupees = -0.07 = negative no \n",
    "\n",
    "-- There is no direct correlation between registration year or kms_driven with the resale price of the car,as it would be seen in the real world scenario."
   ]
  },
  {
   "cell_type": "code",
   "execution_count": 0,
   "metadata": {
    "application/vnd.databricks.v1+cell": {
     "cellMetadata": {
      "byteLimit": 2048000,
      "rowLimit": 10000
     },
     "inputWidgets": {},
     "nuid": "83029ad2-319c-49c2-8fbc-1511b5fe48c1",
     "showTitle": true,
     "title": "Find out the correlation between different columns."
    }
   },
   "outputs": [
    {
     "output_type": "stream",
     "name": "stdout",
     "output_type": "stream",
     "text": [
      "0.33888218643053675"
     ]
    }
   ],
   "source": [
    "# Let's understand how registration year impacts the re-sale price of a car?\n",
    "display(df.stat.corr('registered_yr','resale_price_in_Lakh_Rupees'))"
   ]
  },
  {
   "cell_type": "code",
   "execution_count": 0,
   "metadata": {
    "application/vnd.databricks.v1+cell": {
     "cellMetadata": {
      "byteLimit": 2048000,
      "rowLimit": 10000
     },
     "inputWidgets": {},
     "nuid": "c754c0ec-5e30-4a65-9f0d-385cf6d4869a",
     "showTitle": true,
     "title": "User-Defined Function (UDF) for Retrieving Top 5 Highest Resale Car Prices by Model and City."
    }
   },
   "outputs": [],
   "source": [
    "from pyspark.sql import Window\n",
    "from pyspark.sql.functions import col, desc, row_number\n",
    "\n",
    "def UDF(model_name):\n",
    "    Temp_df = df.select('car_model','registered_yr','kms_driven','owner_type','insurance','city','resale_price_in_Lakh_Rupees').filter(df.car_model == model_name).sort('resale_price_in_Lakh_Rupees',ascending = False)\n",
    "\n",
    "    window_specs = Window.partitionBy(\"city\").orderBy(desc(\"resale_price_in_Lakh_Rupees\"))\n",
    "\n",
    "    Temp_df = Temp_df.withColumn(\"highest_re_sale_price_order\" , row_number().over(window_specs)).filter(col('highest_re_sale_price_order') <=5)\n",
    "\n",
    "    return Temp_df\n",
    "\n",
    "Car_model = \"Hyundai Grand i10 Sportz\"    # Input car model here.\n",
    "\n",
    "costliest_5_re_sold_cars_per_city = UDF(Car_model)\n",
    "#display(costliest_5_re_sold_cars_per_city)"
   ]
  }
 ],
 "metadata": {
  "application/vnd.databricks.v1+notebook": {
   "dashboards": [
    {
     "elements": [
      {
       "dashboardResultIndex": null,
       "elementNUID": "2f17657e-68dc-4754-a0e3-51c85a85c324",
       "elementType": "command",
       "guid": "1618025b-b3e7-4947-82df-746376215388",
       "options": {
        "autoScaleImg": false,
        "scale": 0,
        "showRunButton": true,
        "showTitle": true,
        "title": "Number of Cars Sold by Car Companies",
        "titleAlign": "center"
       },
       "position": {
        "height": 6,
        "width": 11,
        "x": 0,
        "y": 0,
        "z": null
       },
       "resultIndex": null
      },
      {
       "dashboardResultIndex": null,
       "elementNUID": "fff74a7f-3911-44a5-9805-9a89545d3b30",
       "elementType": "command",
       "guid": "674a5d15-43b2-45ad-a941-014c1ca5f1a1",
       "options": {
        "autoScaleImg": false,
        "scale": 0,
        "showRunButton": true,
        "showTitle": true,
        "title": "Top 5 Most Re-sold Car Models among the Top 3 Dominating Car Companies",
        "titleAlign": "center"
       },
       "position": {
        "height": 6,
        "width": 13,
        "x": 11,
        "y": 0,
        "z": null
       },
       "resultIndex": null
      },
      {
       "dashboardResultIndex": null,
       "elementNUID": "dfce75d6-5e6e-4c01-b6b2-5ecffa77a70b",
       "elementType": "command",
       "guid": "77ef17ba-fd90-4c37-9b4c-92b6899d97fd",
       "options": {
        "autoScaleImg": false,
        "scale": 0,
        "showRunButton": true,
        "showTitle": true,
        "title": "Insurance Type Preference Across Car Re-Sales Market",
        "titleAlign": "center"
       },
       "position": {
        "height": 6,
        "width": 11,
        "x": 0,
        "y": 12,
        "z": null
       },
       "resultIndex": null
      },
      {
       "dashboardResultIndex": null,
       "elementNUID": "fa98f9cf-a8df-4507-ad72-4008f460fbf6",
       "elementType": "command",
       "guid": "91f5c235-e095-4601-9aca-65e67832095b",
       "options": {
        "autoScaleImg": false,
        "scale": 0,
        "showRunButton": true,
        "showTitle": true,
        "title": "City-wise Car Sales Distribution",
        "titleAlign": "center"
       },
       "position": {
        "height": 6,
        "width": 16,
        "x": 0,
        "y": 6,
        "z": null
       },
       "resultIndex": null
      },
      {
       "dashboardResultIndex": null,
       "elementNUID": "e65c5729-91a3-49de-96d8-c2442c0543b9",
       "elementType": "command",
       "guid": "c5bfe9cc-cfa7-441b-b381-43a034210c3e",
       "options": {
        "autoScaleImg": false,
        "scale": 0,
        "showRunButton": true,
        "showTitle": true,
        "title": "Car Sales Trend Over Registration Years",
        "titleAlign": "center"
       },
       "position": {
        "height": 6,
        "width": 13,
        "x": 11,
        "y": 12,
        "z": null
       },
       "resultIndex": null
      },
      {
       "dashboardResultIndex": null,
       "elementNUID": "f81704c7-984f-4e21-8d61-ca7295bfddd3",
       "elementType": "command",
       "guid": "eaad3e6e-e27b-4710-8bf7-ff897f9b00a8",
       "options": {
        "autoScaleImg": false,
        "scale": 0,
        "showRunButton": true,
        "showTitle": true,
        "title": "Total cars re-sold per ownership type",
        "titleAlign": "center"
       },
       "position": {
        "height": 6,
        "width": 8,
        "x": 16,
        "y": 6,
        "z": null
       },
       "resultIndex": null
      }
     ],
     "globalVars": {},
     "guid": "",
     "layoutOption": {
      "grid": true,
      "stack": true
     },
     "nuid": "ce14c04e-af3c-4c61-9edf-2964791b5280",
     "origId": 3639587366900566,
     "title": " Dashboard",
     "version": "DashboardViewV1",
     "width": 1440
    }
   ],
   "language": "python",
   "notebookMetadata": {
    "mostRecentlyExecutedCommandWithImplicitDF": {
     "commandId": 1696027221327892,
     "dataframes": [
      "_sqldf"
     ]
    },
    "pythonIndentUnit": 4
   },
   "notebookName": "Transformation Script",
   "widgets": {}
  }
 },
 "nbformat": 4,
 "nbformat_minor": 0
}
